{
 "cells": [
  {
   "cell_type": "markdown",
   "metadata": {},
   "source": [
    "# Working With Files and Doing Data Cleaning"
   ]
  },
  {
   "cell_type": "markdown",
   "metadata": {},
   "source": [
    "## First, a Review on Planning Your Programs\n",
    "\n",
    "One of the most difficult things about learning to program is to learn how to start.  What to do before you write the code, and how to work your way through the coding process.\n",
    "\n",
    "A good general idea is to think through the problem you want to solve first -- just conceptually.  How will you know you have solved it?  Are there tests that you can use to be sure?  Can you break the problem down into smaller components, and solve those sequentially?  This is a step that is conceptualizing your algorithm, or your plan for the code.\n",
    "\n",
    "What approach would you use to solve each of those components? Can you describe those steps in English? We call this step writing 'pseudo-code'\n",
    "\n",
    "Finally, there is the coding step. And the inevitable debugging step.  You really can't do one without the other.\n",
    "\n",
    "Generally, it is good practice to work your way through problems in this way, and write the code for each building block, testing it to be sure it works for all the kinds of cases you can imagine, then test them together.  You'll end up being more productive, and far less frustrated, using a systematic, problem-solving approach.  \n",
    "\n",
    "And by all means, don't try to tackle it all at once.  Below is an example of how to work through this process."
   ]
  },
  {
   "cell_type": "markdown",
   "metadata": {},
   "source": [
    "### Phase 1: Conceptual Plan\n",
    "\n",
    "What do we need to do to determine whether each number between 1 and 100 is a prime number?\n",
    "\n",
    "1. We need to see if any given number can be divided evenly by any other number besides 1 and itself. \n",
    "2. We need to test this for every number between 1 and 100\n",
    "\n",
    "### Phase 2: Pseudo-Code\n",
    "\n",
    "1. Write a function (isprime) to test whether a number passed to it as an argument (x) is a prime number.\n",
    "Iterate over all values from x to 1.\n",
    "At each iteration, test whether the original x is evenly divisible by this iteration value.\n",
    "Keep track of how many times you get an evenly divisible result.\n",
    "If the result is more than 2, call x a prime number.\n",
    "\n",
    "2. Write a loop from 1 to 100, call this value (z)\n",
    "Within the loop, call function isprime, and pass it the value of z.\n",
    "Print the list of prime numbers.\n",
    "\n",
    "### Phase 3: Code Incrementally, Test, and Document\n",
    "\n",
    "Generally, build the code one step at a time, and test that step.  Add comments to explain your logic.  Make sure you include narrative in your assignments explaining your reasoning, and adding explanatory comments in the code every few lines to explain what you are doing in each part."
   ]
  },
  {
   "cell_type": "markdown",
   "metadata": {},
   "source": [
    "## Working With Files\n",
    "\n",
    "Most data you might want to work with is likely to be in some kind of file.  You often will want to work with data in comma separated text files, or in spreadsheet tables, or in tables stored in a database.  And you will increasingly find data online, not only as text or spreadsheets to download, but as Open Data APIs, returned from a web service as a JSON object.  This session covers how to work with a variety of file formats in Python, and how to begin processing data in files to clean data."
   ]
  },
  {
   "cell_type": "markdown",
   "metadata": {},
   "source": [
    "### Basics of Reading and Writing Files in Python\n",
    "\n",
    "Let's start by creating a simple file, and then reading it back.  We will use 'open' to open a file we will call 'tempfile' in 'write' (w) mode.  We will assign the file object, which is **iterable**, to an object we will arbitrarily call 'f'."
   ]
  },
  {
   "cell_type": "code",
   "execution_count": 24,
   "metadata": {
    "ExecuteTime": {
     "end_time": "2020-02-06T14:55:24.384663Z",
     "start_time": "2020-02-06T14:55:24.379662Z"
    }
   },
   "outputs": [],
   "source": [
    "f = open('tempfile.txt', 'w')\n",
    "for i in range(10):\n",
    "    f.write('this is line ' + str(i) + '\\n')\n",
    "f.close()"
   ]
  },
  {
   "cell_type": "code",
   "execution_count": 9,
   "metadata": {
    "ExecuteTime": {
     "end_time": "2020-02-06T14:51:10.528081Z",
     "start_time": "2020-02-06T14:51:10.523062Z"
    }
   },
   "outputs": [],
   "source": [
    "with open('mytextfile.txt', 'w') as m:\n",
    "    m.write('this is my text file \\nThis is the second line in it \\nand the third')\n"
   ]
  },
  {
   "cell_type": "code",
   "execution_count": 29,
   "metadata": {
    "ExecuteTime": {
     "end_time": "2020-02-06T14:56:12.880389Z",
     "start_time": "2020-02-06T14:56:12.876397Z"
    }
   },
   "outputs": [
    {
     "data": {
      "text/plain": [
       "'this is my text file \\n'"
      ]
     },
     "execution_count": 29,
     "metadata": {},
     "output_type": "execute_result"
    }
   ],
   "source": [
    "m = open('mytextfile.txt', 'r')\n",
    "m.readline()\n"
   ]
  },
  {
   "cell_type": "code",
   "execution_count": 30,
   "metadata": {
    "ExecuteTime": {
     "end_time": "2020-02-06T14:56:23.392727Z",
     "start_time": "2020-02-06T14:56:23.388765Z"
    }
   },
   "outputs": [
    {
     "data": {
      "text/plain": [
       "'This is the second line in it \\n'"
      ]
     },
     "execution_count": 30,
     "metadata": {},
     "output_type": "execute_result"
    }
   ],
   "source": [
    "m.readline()"
   ]
  },
  {
   "cell_type": "markdown",
   "metadata": {},
   "source": [
    "You can open the text file in an editor to verify that this code wrote the file as expected.  Now open the file we just created in Python, in read mode (r)"
   ]
  },
  {
   "cell_type": "code",
   "execution_count": 25,
   "metadata": {
    "ExecuteTime": {
     "end_time": "2020-02-06T14:55:29.796227Z",
     "start_time": "2020-02-06T14:55:29.787264Z"
    }
   },
   "outputs": [],
   "source": [
    "f = open('tempfile.txt', 'r')"
   ]
  },
  {
   "cell_type": "markdown",
   "metadata": {},
   "source": [
    "The first method to read a file is to read it in all at once, with a read() method. Here we load the whole file in memory and assign it to a. Note that we will re-open the file here to start from the beginning. Otherwise it will be positioned at the end of the file and give us back an empty string. "
   ]
  },
  {
   "cell_type": "code",
   "execution_count": 2,
   "metadata": {
    "ExecuteTime": {
     "end_time": "2020-02-06T14:55:39.398191Z",
     "start_time": "2020-02-06T14:55:39.392172Z"
    }
   },
   "outputs": [
    {
     "data": {
      "text/plain": [
       "['this is line 0\\n',\n",
       " 'this is line 1\\n',\n",
       " 'this is line 2\\n',\n",
       " 'this is line 3\\n',\n",
       " 'this is line 4\\n',\n",
       " 'this is line 5\\n',\n",
       " 'this is line 6\\n',\n",
       " 'this is line 7\\n',\n",
       " 'this is line 8\\n',\n",
       " 'this is line 9\\n']"
      ]
     },
     "execution_count": 2,
     "metadata": {},
     "output_type": "execute_result"
    }
   ],
   "source": [
    "f = open('tempfile.txt', 'r')\n",
    "a = f.readlines()\n",
    "a"
   ]
  },
  {
   "cell_type": "raw",
   "metadata": {},
   "source": [
    "Note that when we use read() it creates a string object.  The whole file is loaded into one big string.  Sometimes this may be useful, but often it is not the best way to load a file."
   ]
  },
  {
   "cell_type": "code",
   "execution_count": 3,
   "metadata": {
    "ExecuteTime": {
     "end_time": "2020-02-06T14:55:53.057209Z",
     "start_time": "2020-02-06T14:55:53.053224Z"
    }
   },
   "outputs": [
    {
     "data": {
      "text/plain": [
       "list"
      ]
     },
     "execution_count": 3,
     "metadata": {},
     "output_type": "execute_result"
    }
   ],
   "source": [
    "type(a)"
   ]
  },
  {
   "cell_type": "markdown",
   "metadata": {},
   "source": [
    "An alternative approach is to step through reading each line of the file with the readline() method.  Notice that each time you execute this it advances to the next line.  Each line is read into a string object.  In this case we are not doing anything with that object except printing it."
   ]
  },
  {
   "cell_type": "code",
   "execution_count": null,
   "metadata": {},
   "outputs": [],
   "source": [
    "f = open('tempfile.txt', 'r')\n",
    "print(f.readline())\n",
    "print(f.readline())"
   ]
  },
  {
   "cell_type": "markdown",
   "metadata": {},
   "source": [
    "Here is another way to loop through the lines of the file and print them all out. Notice that printing the lines suppresses the quotes and the newline string."
   ]
  },
  {
   "cell_type": "code",
   "execution_count": null,
   "metadata": {},
   "outputs": [],
   "source": [
    "f = open('tempfile.txt', 'r')\n",
    "for line in f:\n",
    "    print(line, end='')"
   ]
  },
  {
   "cell_type": "markdown",
   "metadata": {},
   "source": [
    "The plural version of the readline() method generates a list of the lines in a file, with a string containing each line of the file.  Notice that this list contains the raw text contents, including the newline string '\\n'."
   ]
  },
  {
   "cell_type": "code",
   "execution_count": null,
   "metadata": {},
   "outputs": [],
   "source": [
    "f = open('tempfile.txt', 'r')\n",
    "a = f.readlines()\n",
    "a"
   ]
  },
  {
   "cell_type": "markdown",
   "metadata": {},
   "source": [
    "Using **with** is a handy way to open a file, load its data, and automatically close the file."
   ]
  },
  {
   "cell_type": "code",
   "execution_count": 31,
   "metadata": {
    "ExecuteTime": {
     "end_time": "2020-02-06T14:58:17.628486Z",
     "start_time": "2020-02-06T14:58:17.622473Z"
    }
   },
   "outputs": [
    {
     "name": "stdout",
     "output_type": "stream",
     "text": [
      "this is line 0\n",
      "this is line 1\n",
      "this is line 2\n",
      "this is line 3\n",
      "this is line 4\n",
      "this is line 5\n",
      "this is line 6\n",
      "this is line 7\n",
      "this is line 8\n",
      "this is line 9\n",
      "\n"
     ]
    },
    {
     "data": {
      "text/plain": [
       "True"
      ]
     },
     "execution_count": 31,
     "metadata": {},
     "output_type": "execute_result"
    }
   ],
   "source": [
    "with open('tempfile.txt', 'r') as f:\n",
    "    read_data = f.read()\n",
    "print(read_data)\n",
    "f.closed\n"
   ]
  },
  {
   "cell_type": "code",
   "execution_count": 34,
   "metadata": {
    "ExecuteTime": {
     "end_time": "2020-02-06T14:59:53.378147Z",
     "start_time": "2020-02-06T14:59:53.374159Z"
    }
   },
   "outputs": [
    {
     "name": "stdout",
     "output_type": "stream",
     "text": [
      "['this is my text file \\n', 'This is the second line in it \\n', 'and the third']\n"
     ]
    }
   ],
   "source": [
    "with open('mytextfile.txt', 'r') as m:\n",
    "    print(m.readlines())"
   ]
  },
  {
   "cell_type": "markdown",
   "metadata": {},
   "source": [
    "### Working with JSON\n",
    "\n",
    "JSON (JavaScript Object Notation) is a common format for data accessed from a web browser, which is generally running JavaScript.\n",
    "\n",
    "The json dumps() method converts Python objects to JSON format, using the counterpart format for each data type, as in the table below."
   ]
  },
  {
   "cell_type": "raw",
   "metadata": {},
   "source": [
    "\n",
    "Python\t       JSON\n",
    "dict\t       object\n",
    "list, tuple\t   array\n",
    "str\t           string\n",
    "int, float     number\n",
    "True\t       true\n",
    "False\t       false\n",
    "None\t       null"
   ]
  },
  {
   "cell_type": "code",
   "execution_count": 35,
   "metadata": {
    "ExecuteTime": {
     "end_time": "2020-02-06T15:00:45.904744Z",
     "start_time": "2020-02-06T15:00:45.900749Z"
    }
   },
   "outputs": [
    {
     "data": {
      "text/plain": [
       "'[1, 2, 3]'"
      ]
     },
     "execution_count": 35,
     "metadata": {},
     "output_type": "execute_result"
    }
   ],
   "source": [
    "import json\n",
    "\n",
    "json.dumps([1,2,3])"
   ]
  },
  {
   "cell_type": "code",
   "execution_count": null,
   "metadata": {},
   "outputs": [],
   "source": []
  },
  {
   "cell_type": "markdown",
   "metadata": {},
   "source": [
    "Notice that objects can be complex, containing multiple types of data, and still be easily translated between Python objects and JSON format.  The following example converts a Python list, containing one element that is a dictionary, to JSON."
   ]
  },
  {
   "cell_type": "code",
   "execution_count": null,
   "metadata": {},
   "outputs": [],
   "source": [
    "json.dumps([1,2,3,{'foo': 'bar'}])"
   ]
  },
  {
   "cell_type": "markdown",
   "metadata": {},
   "source": [
    "Below we convert the contents of tempfile to a json object."
   ]
  },
  {
   "cell_type": "code",
   "execution_count": null,
   "metadata": {},
   "outputs": [],
   "source": [
    "f = open('tempfile.txt', 'r')\n",
    "\n",
    "x = json.dumps(f.readlines())\n",
    "x"
   ]
  },
  {
   "cell_type": "markdown",
   "metadata": {},
   "source": [
    "With the dump() method, we can write JSON data to a file.  Here we read tempfile, and create a new JSON formatted file into which we write the contents of tempfile."
   ]
  },
  {
   "cell_type": "code",
   "execution_count": null,
   "metadata": {},
   "outputs": [],
   "source": [
    "f = open('tempfile.txt', 'r')\n",
    "j = open('temp.json', 'w')\n",
    "json.dump(f.readlines(), j)"
   ]
  },
  {
   "cell_type": "code",
   "execution_count": 36,
   "metadata": {
    "ExecuteTime": {
     "end_time": "2020-02-06T15:07:37.952079Z",
     "start_time": "2020-02-06T15:07:37.830141Z"
    }
   },
   "outputs": [],
   "source": [
    "json.dump?"
   ]
  },
  {
   "cell_type": "markdown",
   "metadata": {},
   "source": [
    "Using the load() method, we can read JSON formatted data and load it into a Python object."
   ]
  },
  {
   "cell_type": "code",
   "execution_count": null,
   "metadata": {},
   "outputs": [],
   "source": [
    "j = open('temp.json', 'r')\n",
    "x = json.load(j)\n",
    "x"
   ]
  },
  {
   "cell_type": "markdown",
   "metadata": {},
   "source": [
    "### Working with CSV Files\n",
    "\n",
    "CSV (Comma Separated Values) is probably the most common format of data you will encounter.  Files in this format are often exported in this format from a database table or from Excel, or just used as a simple, standard text (ASCII) file format for ease of use.\n",
    "\n",
    "Let's begin by writing a CSV file like the JSON example above, by importing the csv module, and writing a file with several columns, separated by commas."
   ]
  },
  {
   "cell_type": "code",
   "execution_count": 37,
   "metadata": {
    "ExecuteTime": {
     "end_time": "2020-02-06T15:09:03.287306Z",
     "start_time": "2020-02-06T15:09:03.281324Z"
    }
   },
   "outputs": [
    {
     "data": {
      "text/plain": [
       "[[0, 0, 2],\n",
       " [1, 2, 3],\n",
       " [2, 4, 4],\n",
       " [3, 6, 5],\n",
       " [4, 8, 6],\n",
       " [5, 10, 7],\n",
       " [6, 12, 8],\n",
       " [7, 14, 9],\n",
       " [8, 16, 10],\n",
       " [9, 18, 11]]"
      ]
     },
     "execution_count": 37,
     "metadata": {},
     "output_type": "execute_result"
    }
   ],
   "source": [
    "my_data = []\n",
    "for i in range(10):\n",
    "    my_data.append([i, i*2, i+2])\n",
    "my_data"
   ]
  },
  {
   "cell_type": "markdown",
   "metadata": {},
   "source": [
    "Now we will write the CSV file using my_data, and adding a header row first with column names.  Note that we open the file as before, in write mode, but now use the writerow() method to write one row with the header, and writerows() to iterate over the rows and write them to the file."
   ]
  },
  {
   "cell_type": "code",
   "execution_count": 40,
   "metadata": {
    "ExecuteTime": {
     "end_time": "2020-02-06T15:11:40.317208Z",
     "start_time": "2020-02-06T15:11:40.297248Z"
    }
   },
   "outputs": [],
   "source": [
    "import csv\n",
    "with open('my_data.csv', 'w', newline='') as f:\n",
    "    writer = csv.writer(f)\n",
    "    writer.writerow([\"x\", \"y\", \"z\"])\n",
    "    writer.writerows(my_data)"
   ]
  },
  {
   "cell_type": "code",
   "execution_count": 45,
   "metadata": {
    "ExecuteTime": {
     "end_time": "2020-02-06T15:14:47.931692Z",
     "start_time": "2020-02-06T15:14:47.927703Z"
    }
   },
   "outputs": [],
   "source": [
    "import csv\n",
    "with open('my_data2.csv', 'w', newline = '') as f:\n",
    "    csv.writer(f).writerow(['x'])"
   ]
  },
  {
   "cell_type": "markdown",
   "metadata": {},
   "source": [
    "Reading a CSV file is very similar to writing one, but simpler.  We create a reader object that is iterable, and then we can iterate over the rows and do things, like print each row."
   ]
  },
  {
   "cell_type": "code",
   "execution_count": null,
   "metadata": {},
   "outputs": [],
   "source": [
    "with open('my_data.csv', newline='') as f:\n",
    "    reader = csv.reader(f)\n",
    "    for row in reader:\n",
    "        print(row)"
   ]
  },
  {
   "cell_type": "code",
   "execution_count": 56,
   "metadata": {
    "ExecuteTime": {
     "end_time": "2020-02-06T15:18:57.690380Z",
     "start_time": "2020-02-06T15:18:57.683399Z"
    }
   },
   "outputs": [
    {
     "data": {
      "text/plain": [
       "[['x', 'y', 'z'],\n",
       " ['0', '0', '2'],\n",
       " ['1', '2', '3'],\n",
       " ['2', '4', '4'],\n",
       " ['3', '6', '5'],\n",
       " ['4', '8', '6'],\n",
       " ['5', '10', '7'],\n",
       " ['6', '12', '8'],\n",
       " ['7', '14', '9'],\n",
       " ['8', '16', '10'],\n",
       " ['9', '18', '11']]"
      ]
     },
     "execution_count": 56,
     "metadata": {},
     "output_type": "execute_result"
    }
   ],
   "source": [
    "a = []\n",
    "with open('my_data.csv', newline='') as f:\n",
    "       for r in csv.reader(f):\n",
    "        a.append(r)    \n",
    "            \n",
    "\n",
    "a"
   ]
  },
  {
   "cell_type": "markdown",
   "metadata": {},
   "source": [
    "If we want to actually work with the data, then we need to assign it to an object rather than just printing it.  Here we can use the list method to convert the iterable reader object to a list, one per row."
   ]
  },
  {
   "cell_type": "code",
   "execution_count": 50,
   "metadata": {
    "ExecuteTime": {
     "end_time": "2020-02-06T15:17:30.747969Z",
     "start_time": "2020-02-06T15:17:30.740961Z"
    }
   },
   "outputs": [
    {
     "data": {
      "text/plain": [
       "[['x', 'y', 'z'],\n",
       " ['0', '0', '2'],\n",
       " ['1', '2', '3'],\n",
       " ['2', '4', '4'],\n",
       " ['3', '6', '5'],\n",
       " ['4', '8', '6'],\n",
       " ['5', '10', '7'],\n",
       " ['6', '12', '8'],\n",
       " ['7', '14', '9'],\n",
       " ['8', '16', '10'],\n",
       " ['9', '18', '11']]"
      ]
     },
     "execution_count": 50,
     "metadata": {},
     "output_type": "execute_result"
    }
   ],
   "source": [
    "with open('my_data.csv', newline='') as f:\n",
    "    reader = csv.reader(f)\n",
    "    my_data = list(reader)\n",
    "my_data"
   ]
  },
  {
   "cell_type": "markdown",
   "metadata": {},
   "source": [
    "If you want to skip the header row in order to have the data without the header, you can use **next** after instantiating the reader object, to advance one row in the CVS file."
   ]
  },
  {
   "cell_type": "code",
   "execution_count": null,
   "metadata": {},
   "outputs": [],
   "source": [
    "with open('my_data.csv', newline='') as f:\n",
    "    reader = csv.reader(f)\n",
    "    next(reader)\n",
    "    my_data = list(reader)\n",
    "my_data"
   ]
  },
  {
   "cell_type": "markdown",
   "metadata": {},
   "source": [
    "Since the data is now available as an object, you can do normal Python processing on it, like selecting the first entry of each row and printing it."
   ]
  },
  {
   "cell_type": "code",
   "execution_count": null,
   "metadata": {},
   "outputs": [],
   "source": [
    "for row in my_data:\n",
    "    print(row[0])"
   ]
  },
  {
   "cell_type": "markdown",
   "metadata": {},
   "source": [
    "### Reading a CSV File and Computing Statistics With it\n",
    "\n",
    "Use rain.csv to calculate mean and maximum values in a column"
   ]
  },
  {
   "cell_type": "code",
   "execution_count": null,
   "metadata": {},
   "outputs": [],
   "source": [
    "with open('rain.csv', 'r') as csvfile:\n",
    "    \n",
    "    # initialize a counter and variables to contain our descriptive stats\n",
    "    count = 0 #at the end, divide cumulative_sum by this to get the mean\n",
    "    cumulative_sum = 0 #our rolling sum\n",
    "    max_value = -1 #pick a really small number that's guaranteed to be less than the max\n",
    "    \n",
    "    # open the file and skip the header row\n",
    "    my_csv = csv.reader(csvfile)\n",
    "    next(my_csv)\n",
    "    \n",
    "    # loop through each data row\n",
    "    for row in my_csv:\n",
    "        \n",
    "        # rainfall amount is in column 1, only process this row's value if not an empty string\n",
    "        if not row[1] == '':\n",
    "            \n",
    "            # increment the counter and extract this row's rainfall as a float\n",
    "            count = count + 1\n",
    "            rainfall = float(row[1])\n",
    "            \n",
    "            # add this row's rainfall to the cumulative sum\n",
    "            cumulative_sum = cumulative_sum + rainfall\n",
    "            \n",
    "            # if this row's rainfall is greater than the current max value, update with the new max\n",
    "            if rainfall > max_value:\n",
    "                max_value = rainfall\n",
    "\n",
    "    # after looping through all the rows, divide the cumulative sum by the count and round to get the mean\n",
    "    mean_value = round(cumulative_sum / count, 1)\n",
    "    \n",
    "    # print out the mean and max values\n",
    "    print('mean:', mean_value, 'inches')\n",
    "    print('max:', max_value, 'inches')"
   ]
  },
  {
   "cell_type": "code",
   "execution_count": 107,
   "metadata": {
    "ExecuteTime": {
     "end_time": "2020-02-06T16:06:37.239281Z",
     "start_time": "2020-02-06T16:06:37.235292Z"
    }
   },
   "outputs": [],
   "source": []
  },
  {
   "cell_type": "markdown",
   "metadata": {},
   "source": [
    "How would you find the minimum rainfall amount?"
   ]
  },
  {
   "cell_type": "code",
   "execution_count": 65,
   "metadata": {
    "ExecuteTime": {
     "end_time": "2020-02-06T15:33:39.153076Z",
     "start_time": "2020-02-06T15:33:39.147053Z"
    }
   },
   "outputs": [
    {
     "data": {
      "text/plain": [
       "0.7"
      ]
     },
     "execution_count": 65,
     "metadata": {},
     "output_type": "execute_result"
    }
   ],
   "source": [
    "a = []\n",
    "with open('Data\\\\rain.csv', 'r') as csvfile:\n",
    "    raindt = csv.reader(csvfile)\n",
    "    next(raindt)\n",
    "    for row in raindt:\n",
    "        if not row[1] == '':\n",
    "            a.append(float(row[1]))\n",
    "\n",
    "minrainfall = min(a)  \n",
    "minrainfall"
   ]
  },
  {
   "cell_type": "markdown",
   "metadata": {},
   "source": [
    "### Cleaning up Messy Data"
   ]
  },
  {
   "cell_type": "markdown",
   "metadata": {},
   "source": [
    "Let's look at another data file - one that contains a few Craigslist rental listings, that we have already done some cleanup on."
   ]
  },
  {
   "cell_type": "code",
   "execution_count": 20,
   "metadata": {
    "ExecuteTime": {
     "end_time": "2020-02-06T15:34:18.897518Z",
     "start_time": "2020-02-06T15:34:18.891528Z"
    }
   },
   "outputs": [
    {
     "name": "stdout",
     "output_type": "stream",
     "text": [
      "['neighborhood', 'price', 'bedrooms', 'date', 'sqft', 'longitude', 'latitude']\n",
      "['foster city', '2495', '1', '11/14/2014 12:26', '755', '-122.27', '37.5538']\n",
      "['palo alto', '2695', '', '11/14/2014 12:25', '443', '-122.161524', '37.450289']\n",
      "['brisbane', '3150', '2', '11/14/2014 12:24', '1242', '-122.417912', '37.692415']\n",
      "['palo alto', '2800', '2', '11/14/2014 12:24', '', '', '']\n",
      "['san mateo', '2196', '1', '11/14/2014 12:24', '676', '-122.2998', '37.5395']\n",
      "['santa clara', '3264', '3', '11/14/2014 12:28', '1138', '', '']\n",
      "['san jose south', '2000', '2', '11/14/2014 12:28', '822', '-121.902268', '37.253503']\n",
      "['sunnyvale', '4740', '3', '11/14/2014 12:28', '1406', '-122.034683', '37.368445']\n",
      "['inner sunset / UCSF', '3395', '2', '11/14/2014 12:32', '', '-122.479345', '37.764582']\n",
      "['richmond / seacliff', '2699', '1', '11/14/2014 12:32', '', '-122.503781', '37.7718']\n",
      "['SOMA / south beach', '3620', '1', '11/14/2014 12:30', '860', '-122.395195', '37.775133']\n",
      "['dublin / pleasanton / livermore', '2025', '1', '11/14/2014 12:18', '636', '-121.787665', '37.67963']\n",
      "['concord / pleasant hill / martinez', '', '2', '11/14/2014 12:18', '1019', '-122.035275', '37.975259']\n",
      "['hercules, pinole, san pablo, el sob', '1795', '1', '11/14/2014 12:17', '715', '-122.321672', '37.978086']\n",
      "['corte madera', '4299', '3', '11/14/2014 12:33', '1533', '-122.488541', '37.919834']\n"
     ]
    }
   ],
   "source": [
    "with open('Data//rents_raw.csv', 'r') as csvfile:\n",
    "    my_csv = csv.reader(csvfile)\n",
    "    for row in my_csv:\n",
    "        print(row)"
   ]
  },
  {
   "cell_type": "code",
   "execution_count": 22,
   "metadata": {
    "ExecuteTime": {
     "end_time": "2020-02-06T15:34:58.336083Z",
     "start_time": "2020-02-06T15:34:58.331098Z"
    }
   },
   "outputs": [
    {
     "name": "stdout",
     "output_type": "stream",
     "text": [
      "['neighborhood', 'price', 'bedrooms', 'date', 'sqft', 'longitude', 'latitude']\n"
     ]
    }
   ],
   "source": [
    "# the column headers are the first row in the data file\n",
    "# use next to iterate our csv reader to the first row to grab the headers\n",
    "with open('Data//rents_raw.csv', 'r') as csvfile:\n",
    "    my_csv = csv.reader(csvfile)\n",
    "    headers = next(my_csv)\n",
    "    print(headers)"
   ]
  },
  {
   "cell_type": "code",
   "execution_count": 71,
   "metadata": {
    "ExecuteTime": {
     "end_time": "2020-02-06T15:35:37.825336Z",
     "start_time": "2020-02-06T15:35:37.820349Z"
    }
   },
   "outputs": [
    {
     "data": {
      "text/plain": [
       "'neighborhood'"
      ]
     },
     "execution_count": 71,
     "metadata": {},
     "output_type": "execute_result"
    }
   ],
   "source": [
    "# what is the 1st column (zero-indexed) in our data set?\n",
    "headers[0]"
   ]
  },
  {
   "cell_type": "code",
   "execution_count": 23,
   "metadata": {
    "ExecuteTime": {
     "end_time": "2020-02-06T15:35:57.123248Z",
     "start_time": "2020-02-06T15:35:57.117265Z"
    }
   },
   "outputs": [
    {
     "name": "stdout",
     "output_type": "stream",
     "text": [
      "price\n",
      "2495\n",
      "2695\n",
      "3150\n",
      "2800\n",
      "2196\n",
      "3264\n",
      "2000\n",
      "4740\n",
      "3395\n",
      "2699\n",
      "3620\n",
      "2025\n",
      "\n",
      "1795\n",
      "4299\n"
     ]
    }
   ],
   "source": [
    "# for each row in the data set, print the price column's value\n",
    "with open('Data//rents_raw.csv', 'r') as csvfile:\n",
    "    my_csv = csv.reader(csvfile)\n",
    "    for row in my_csv:\n",
    "        print(row[1])"
   ]
  },
  {
   "cell_type": "code",
   "execution_count": 24,
   "metadata": {
    "ExecuteTime": {
     "end_time": "2020-02-06T15:37:37.892621Z",
     "start_time": "2020-02-06T15:37:37.885641Z"
    }
   },
   "outputs": [
    {
     "data": {
      "text/plain": [
       "['price',\n",
       " '2495',\n",
       " '2695',\n",
       " '3150',\n",
       " '2800',\n",
       " '2196',\n",
       " '3264',\n",
       " '2000',\n",
       " '4740',\n",
       " '3395',\n",
       " '2699',\n",
       " '3620',\n",
       " '2025',\n",
       " '',\n",
       " '1795',\n",
       " '4299']"
      ]
     },
     "execution_count": 24,
     "metadata": {},
     "output_type": "execute_result"
    }
   ],
   "source": [
    "# create a new list to contain the column of prices in the data set\n",
    "prices = []\n",
    "with open('Data//rents_raw.csv', 'r') as csvfile:\n",
    "    my_csv = csv.reader(csvfile)\n",
    "    for row in my_csv:\n",
    "        prices.append(row[1])  \n",
    "prices"
   ]
  },
  {
   "cell_type": "markdown",
   "metadata": {},
   "source": [
    "This list has a couple of problems. First, it includes the header. Second, it's all strings even though prices are numeric data. Third, it contains some empty strings. We'll have to clean it up."
   ]
  },
  {
   "cell_type": "code",
   "execution_count": 25,
   "metadata": {
    "ExecuteTime": {
     "end_time": "2020-02-06T15:37:56.788659Z",
     "start_time": "2020-02-06T15:37:56.784662Z"
    }
   },
   "outputs": [
    {
     "data": {
      "text/plain": [
       "['2495',\n",
       " '2695',\n",
       " '3150',\n",
       " '2800',\n",
       " '2196',\n",
       " '3264',\n",
       " '2000',\n",
       " '4740',\n",
       " '3395',\n",
       " '2699',\n",
       " '3620',\n",
       " '2025',\n",
       " '',\n",
       " '1795',\n",
       " '4299']"
      ]
     },
     "execution_count": 25,
     "metadata": {},
     "output_type": "execute_result"
    }
   ],
   "source": [
    "# to remove the first element of the list, we can just capture position 1 through the end of the list\n",
    "prices_noheader = prices[1:]\n",
    "prices_noheader"
   ]
  },
  {
   "cell_type": "code",
   "execution_count": 26,
   "metadata": {
    "ExecuteTime": {
     "end_time": "2020-02-06T15:38:10.874618Z",
     "start_time": "2020-02-06T15:38:10.865620Z"
    }
   },
   "outputs": [
    {
     "name": "stdout",
     "output_type": "stream",
     "text": [
      "2495  \n",
      "2695  \n",
      "3150  \n",
      "2800  \n",
      "2196  \n",
      "3264  \n",
      "2000  \n",
      "4740  \n",
      "3395  \n",
      "2699  \n",
      "3620  \n",
      "2025  \n"
     ]
    },
    {
     "ename": "ValueError",
     "evalue": "could not convert string to float: ",
     "output_type": "error",
     "traceback": [
      "\u001b[0;31m---------------------------------------------------------------------------\u001b[0m",
      "\u001b[0;31mValueError\u001b[0m                                Traceback (most recent call last)",
      "\u001b[0;32m<ipython-input-26-372769648ad3>\u001b[0m in \u001b[0;36m<module>\u001b[0;34m\u001b[0m\n\u001b[1;32m      1\u001b[0m \u001b[0;31m# now let's convert the price strings to integers\u001b[0m\u001b[0;34m\u001b[0m\u001b[0;34m\u001b[0m\u001b[0;34m\u001b[0m\u001b[0m\n\u001b[1;32m      2\u001b[0m \u001b[0;32mfor\u001b[0m \u001b[0mprice\u001b[0m \u001b[0;32min\u001b[0m \u001b[0mprices_noheader\u001b[0m\u001b[0;34m:\u001b[0m\u001b[0;34m\u001b[0m\u001b[0;34m\u001b[0m\u001b[0m\n\u001b[0;32m----> 3\u001b[0;31m     \u001b[0mprint\u001b[0m\u001b[0;34m(\u001b[0m\u001b[0mint\u001b[0m\u001b[0;34m(\u001b[0m\u001b[0mfloat\u001b[0m\u001b[0;34m(\u001b[0m\u001b[0mprice\u001b[0m\u001b[0;34m)\u001b[0m\u001b[0;34m)\u001b[0m\u001b[0;34m,\u001b[0m \u001b[0;34m' '\u001b[0m\u001b[0;34m)\u001b[0m\u001b[0;34m\u001b[0m\u001b[0;34m\u001b[0m\u001b[0m\n\u001b[0m",
      "\u001b[0;31mValueError\u001b[0m: could not convert string to float: "
     ]
    }
   ],
   "source": [
    "# now let's convert the price strings to integers\n",
    "for price in prices_noheader:\n",
    "    print(int(float(price)), ' ')"
   ]
  },
  {
   "cell_type": "code",
   "execution_count": 27,
   "metadata": {},
   "outputs": [
    {
     "name": "stdout",
     "output_type": "stream",
     "text": [
      "2495\n",
      "2695\n",
      "3150\n",
      "2800\n",
      "2196\n",
      "3264\n",
      "2000\n",
      "4740\n",
      "3395\n",
      "2699\n",
      "3620\n",
      "2025\n",
      "None\n",
      "1795\n",
      "4299\n"
     ]
    }
   ],
   "source": [
    "# you can't convert an empty string to a numeric type\n",
    "for price in prices_noheader:\n",
    "    if not price == '':\n",
    "        print(int(float(price)))\n",
    "    else:\n",
    "        print('None')"
   ]
  },
  {
   "cell_type": "code",
   "execution_count": 28,
   "metadata": {
    "ExecuteTime": {
     "end_time": "2020-02-06T15:42:41.531657Z",
     "start_time": "2020-02-06T15:42:41.525673Z"
    }
   },
   "outputs": [
    {
     "name": "stdout",
     "output_type": "stream",
     "text": [
      "2495\n",
      "2695\n",
      "3150\n",
      "2800\n",
      "2196\n",
      "3264\n",
      "2000\n",
      "4740\n",
      "3395\n",
      "2699\n",
      "3620\n",
      "2025\n",
      "1795\n",
      "4299\n"
     ]
    }
   ],
   "source": [
    "# you can't convert an empty string to a numeric type\n",
    "for price in prices_noheader:\n",
    "    try:\n",
    "        if not price == '':\n",
    "            print(int(float(price)))\n",
    "    except:\n",
    "        print('None')"
   ]
  },
  {
   "cell_type": "code",
   "execution_count": 29,
   "metadata": {
    "ExecuteTime": {
     "end_time": "2020-02-06T15:41:05.455774Z",
     "start_time": "2020-02-06T15:41:05.450801Z"
    }
   },
   "outputs": [],
   "source": [
    "# encapsulate this functionality inside a new function\n",
    "def extract_int_price(price):\n",
    "    if not price == '':\n",
    "        return int(float(price))\n",
    "    else:\n",
    "        return None"
   ]
  },
  {
   "cell_type": "code",
   "execution_count": 30,
   "metadata": {
    "ExecuteTime": {
     "end_time": "2020-02-06T15:41:18.136102Z",
     "start_time": "2020-02-06T15:41:18.131116Z"
    }
   },
   "outputs": [
    {
     "name": "stdout",
     "output_type": "stream",
     "text": [
      "2495\n",
      "2695\n",
      "3150\n",
      "2800\n",
      "2196\n",
      "3264\n",
      "2000\n",
      "4740\n",
      "3395\n",
      "2699\n",
      "3620\n",
      "2025\n",
      "None\n",
      "1795\n",
      "4299\n"
     ]
    }
   ],
   "source": [
    "# use our function to convert each element in the list of prices to an integer\n",
    "for price in prices_noheader:\n",
    "    print(extract_int_price(price))"
   ]
  },
  {
   "cell_type": "code",
   "execution_count": 31,
   "metadata": {
    "ExecuteTime": {
     "end_time": "2020-02-06T15:42:52.123645Z",
     "start_time": "2020-02-06T15:42:52.118659Z"
    }
   },
   "outputs": [
    {
     "name": "stdout",
     "output_type": "stream",
     "text": [
      "[2495, 2695, 3150, 2800, 2196, 3264, 2000, 4740, 3395, 2699, 3620, 2025, None, 1795, 4299]\n"
     ]
    }
   ],
   "source": [
    "# rather than just printing each converted value, turn it into a new list called int_prices\n",
    "int_prices = []\n",
    "for price in prices_noheader:\n",
    "    int_prices.append(extract_int_price(price))\n",
    "print(int_prices)"
   ]
  },
  {
   "cell_type": "markdown",
   "metadata": {},
   "source": [
    "### Now let's clean up our neighborhood names\n"
   ]
  },
  {
   "cell_type": "code",
   "execution_count": 33,
   "metadata": {
    "ExecuteTime": {
     "end_time": "2020-02-06T15:44:57.363889Z",
     "start_time": "2020-02-06T15:44:57.357905Z"
    }
   },
   "outputs": [
    {
     "name": "stdout",
     "output_type": "stream",
     "text": [
      "foster city\n",
      "palo alto\n",
      "brisbane\n",
      "palo alto\n",
      "san mateo\n",
      "santa clara\n",
      "san jose south\n",
      "sunnyvale\n",
      "inner sunset - UCSF\n",
      "richmond - seacliff\n",
      "SOMA - south beach\n",
      "dublin - pleasanton - livermore\n",
      "concord - pleasant hill - martinez\n",
      "hercules, pinole, san pablo, el sob\n",
      "corte madera\n"
     ]
    }
   ],
   "source": [
    "# replace any forward slashes in neighborhood name with a hyphen\n",
    "with open('Data//rents_raw.csv', 'r') as csvfile:\n",
    "    my_csv = csv.reader(csvfile)\n",
    "    next(my_csv) #skip the header row\n",
    "    for row in my_csv:\n",
    "        print(row[0].replace('/', '-')) #use string.replace() method"
   ]
  },
  {
   "cell_type": "markdown",
   "metadata": {},
   "source": [
    "### Create a new data set with cleaned up variables"
   ]
  },
  {
   "cell_type": "code",
   "execution_count": 34,
   "metadata": {
    "ExecuteTime": {
     "end_time": "2020-02-06T15:45:21.717043Z",
     "start_time": "2020-02-06T15:45:21.713041Z"
    }
   },
   "outputs": [],
   "source": [
    "# create a new function to convert bedrooms from a string to an int\n",
    "def extract_int_bedrooms(bedrooms):\n",
    "    if not bedrooms == '':\n",
    "        return int(float(bedrooms))\n",
    "    else:\n",
    "        return None"
   ]
  },
  {
   "cell_type": "code",
   "execution_count": 35,
   "metadata": {
    "ExecuteTime": {
     "end_time": "2020-02-06T15:45:29.977261Z",
     "start_time": "2020-02-06T15:45:29.973275Z"
    }
   },
   "outputs": [],
   "source": [
    "# create a new function to replace forward slashes and commas with hyphens\n",
    "def clean_neighborhood(neighborhood_name):\n",
    "    # you can daisy chain multiple string.replace() methods\n",
    "    return neighborhood_name.replace('/', '-').replace(',', '')"
   ]
  },
  {
   "cell_type": "code",
   "execution_count": 37,
   "metadata": {
    "ExecuteTime": {
     "end_time": "2020-02-06T15:45:47.300858Z",
     "start_time": "2020-02-06T15:45:47.292878Z"
    }
   },
   "outputs": [
    {
     "data": {
      "text/plain": [
       "[['foster city', 2495, 1],\n",
       " ['palo alto', 2695, None],\n",
       " ['brisbane', 3150, 2],\n",
       " ['palo alto', 2800, 2],\n",
       " ['san mateo', 2196, 1],\n",
       " ['santa clara', 3264, 3],\n",
       " ['san jose south', 2000, 2],\n",
       " ['sunnyvale', 4740, 3],\n",
       " ['inner sunset - UCSF', 3395, 2],\n",
       " ['richmond - seacliff', 2699, 1],\n",
       " ['SOMA - south beach', 3620, 1],\n",
       " ['dublin - pleasanton - livermore', 2025, 1],\n",
       " ['concord - pleasant hill - martinez', None, 2],\n",
       " ['hercules pinole san pablo el sob', 1795, 1],\n",
       " ['corte madera', 4299, 3]]"
      ]
     },
     "execution_count": 37,
     "metadata": {},
     "output_type": "execute_result"
    }
   ],
   "source": [
    "# clean the data set by calling the cleaning functions and save the results to variables\n",
    "rentals_cleaned = []\n",
    "with open('Data//rents_raw.csv', 'r') as csvfile:\n",
    "    my_csv = csv.reader(csvfile)\n",
    "    next(my_csv)\n",
    "    for row in my_csv:\n",
    "        neighborhood_cleaned = clean_neighborhood(row[0])\n",
    "        price_cleaned = extract_int_price(row[1])\n",
    "        bedrooms_cleaned = extract_int_bedrooms(row[2])\n",
    "        rentals_cleaned.append([neighborhood_cleaned, price_cleaned, bedrooms_cleaned])      \n",
    "\n",
    "# display our nested lists of data        \n",
    "rentals_cleaned"
   ]
  },
  {
   "cell_type": "markdown",
   "metadata": {},
   "source": [
    "# Exercise: \n",
    "\n",
    "1. Calculate the price per square foot, and write the result to a new file.  \n",
    "2. Calculate the average price per square foot. \n",
    "3. Explain how you have dealt with missing data in 1 and 2, and how that might affect your result. "
   ]
  },
  {
   "cell_type": "markdown",
   "metadata": {},
   "source": [
    "### Question 1"
   ]
  },
  {
   "cell_type": "code",
   "execution_count": 38,
   "metadata": {},
   "outputs": [],
   "source": [
    "import csv\n",
    "#/Users//eugene//Documents//Github//ce599//04-Data Files and Cleaning//"
   ]
  },
  {
   "cell_type": "code",
   "execution_count": 39,
   "metadata": {
    "ExecuteTime": {
     "end_time": "2020-02-06T15:57:14.342710Z",
     "start_time": "2020-02-06T15:57:14.337745Z"
    }
   },
   "outputs": [],
   "source": [
    "sqrts = []\n",
    "with open('Data//rents_raw.csv', 'r') as csvfile:\n",
    "    my_csv = csv.reader(csvfile)\n",
    "    for row in my_csv:\n",
    "        sqrts.append(row[4])  \n",
    "sqrts\n",
    "sqrts_noheader = sqrts[1:]"
   ]
  },
  {
   "cell_type": "code",
   "execution_count": 40,
   "metadata": {
    "ExecuteTime": {
     "end_time": "2020-02-06T15:54:16.171716Z",
     "start_time": "2020-02-06T15:54:16.165709Z"
    }
   },
   "outputs": [],
   "source": [
    "def extract_int_price(price):\n",
    "    if not price == '':\n",
    "        return int(float(price))\n",
    "    else:\n",
    "        return None\n",
    "def extract_sqrt(sqrt):\n",
    "    if not sqrt == '':\n",
    "        return int(float(sqrt))\n",
    "    else:\n",
    "        return None"
   ]
  },
  {
   "cell_type": "code",
   "execution_count": 41,
   "metadata": {
    "ExecuteTime": {
     "end_time": "2020-02-06T15:52:29.332263Z",
     "start_time": "2020-02-06T15:52:29.328274Z"
    }
   },
   "outputs": [],
   "source": [
    "priceraw = []\n",
    "for price in prices_noheader:\n",
    "    priceraw.append(extract_int_price(price))"
   ]
  },
  {
   "cell_type": "code",
   "execution_count": 42,
   "metadata": {
    "ExecuteTime": {
     "end_time": "2020-02-06T16:00:21.848558Z",
     "start_time": "2020-02-06T16:00:21.843573Z"
    },
    "scrolled": true
   },
   "outputs": [
    {
     "data": {
      "text/plain": [
       "[755,\n",
       " 443,\n",
       " 1242,\n",
       " None,\n",
       " 676,\n",
       " 1138,\n",
       " 822,\n",
       " 1406,\n",
       " None,\n",
       " None,\n",
       " 860,\n",
       " 636,\n",
       " 1019,\n",
       " 715,\n",
       " 1533]"
      ]
     },
     "execution_count": 42,
     "metadata": {},
     "output_type": "execute_result"
    }
   ],
   "source": [
    "sqftraw = []\n",
    "for sqft in sqrts_noheader:\n",
    "    sqftraw.append(extract_sqrt(sqft))\n",
    "sqftraw"
   ]
  },
  {
   "cell_type": "code",
   "execution_count": 43,
   "metadata": {
    "ExecuteTime": {
     "end_time": "2020-02-06T16:10:22.891618Z",
     "start_time": "2020-02-06T16:10:22.885635Z"
    }
   },
   "outputs": [],
   "source": [
    "cumsump, countp, cumsq, counts = 0, 0, 0, 0\n",
    "for price in priceraw:\n",
    "    if not price == None:\n",
    "        countp += 1\n",
    "        cumsump += price\n",
    "meanprice = cumsump//countp\n",
    "\n",
    "for s in sqftraw:\n",
    "    if not s == None:\n",
    "        counts += 1\n",
    "        cumsq += s\n",
    "meansqft = cumsq//counts\n",
    "\n"
   ]
  },
  {
   "cell_type": "code",
   "execution_count": 44,
   "metadata": {
    "ExecuteTime": {
     "end_time": "2020-02-06T16:14:26.283026Z",
     "start_time": "2020-02-06T16:14:26.278040Z"
    }
   },
   "outputs": [],
   "source": [
    "prices = []\n",
    "for price in priceraw:\n",
    "    if price == None:\n",
    "        price = meanprice\n",
    "    prices.append(price)\n",
    "prices\n",
    "\n",
    "sqft = []\n",
    "for s in sqftraw:\n",
    "    if s == None:\n",
    "        s = meansqft\n",
    "    sqft.append(s)"
   ]
  },
  {
   "cell_type": "code",
   "execution_count": 46,
   "metadata": {
    "ExecuteTime": {
     "end_time": "2020-02-06T16:17:04.908498Z",
     "start_time": "2020-02-06T16:17:04.903493Z"
    }
   },
   "outputs": [
    {
     "data": {
      "text/plain": [
       "[3.3,\n",
       " 6.08,\n",
       " 2.54,\n",
       " 2.99,\n",
       " 3.25,\n",
       " 2.87,\n",
       " 2.43,\n",
       " 3.37,\n",
       " 3.62,\n",
       " 2.88,\n",
       " 4.21,\n",
       " 3.18,\n",
       " 2.89,\n",
       " 2.51,\n",
       " 2.8]"
      ]
     },
     "execution_count": 46,
     "metadata": {},
     "output_type": "execute_result"
    }
   ],
   "source": [
    "#price per sqft = ppsf\n",
    "ppsf = []\n",
    "for i in range(len(prices)):\n",
    "    ppsqft = prices[i]/sqft[i]\n",
    "    ppsf.append(round(ppsqft,2))\n",
    "ppsf"
   ]
  },
  {
   "cell_type": "code",
   "execution_count": 57,
   "metadata": {},
   "outputs": [],
   "source": [
    "with open('price_per_sqft.csv', 'w', newline='') as f:\n",
    "    writer = csv.writer(f)\n",
    "    writer.writerow(['Price/sqft'])\n",
    "    writer.writerows([r] for r in ppsf)"
   ]
  },
  {
   "cell_type": "markdown",
   "metadata": {},
   "source": [
    "### Question 2"
   ]
  },
  {
   "cell_type": "code",
   "execution_count": null,
   "metadata": {},
   "outputs": [],
   "source": [
    "with open('rain.csv', 'r') as csvfile:\n",
    "    \n",
    "    # initialize a counter and variables to contain our descriptive stats\n",
    "    count = 0 #at the end, divide cumulative_sum by this to get the mean\n",
    "    cumulative_sum = 0 #our rolling sum\n",
    "    max_value = -1 #pick a really small number that's guaranteed to be less than the max\n",
    "    \n",
    "    # open the file and skip the header row\n",
    "    my_csv = csv.reader(csvfile)\n",
    "    next(my_csv)\n",
    "    \n",
    "    # loop through each data row\n",
    "    for row in my_csv:\n",
    "        \n",
    "        # rainfall amount is in column 1, only process this row's value if not an empty string\n",
    "        if not row[1] == '':\n",
    "            \n",
    "            # increment the counter and extract this row's rainfall as a float\n",
    "            count = count + 1\n",
    "            rainfall = float(row[1])\n",
    "            \n",
    "            # add this row's rainfall to the cumulative sum\n",
    "            cumulative_sum = cumulative_sum + rainfall\n",
    "            \n",
    "            # if this row's rainfall is greater than the current max value, update with the new max\n",
    "            if rainfall > max_value:\n",
    "                max_value = rainfall\n",
    "\n",
    "    # after looping through all the rows, divide the cumulative sum by the count and round to get the mean\n",
    "    mean_value = round(cumulative_sum / count, 1)\n",
    "    \n",
    "    # print out the mean and max values\n",
    "    print('mean:', mean_value, 'inches')\n",
    "    print('max:', max_value, 'inches')"
   ]
  },
  {
   "cell_type": "code",
   "execution_count": 66,
   "metadata": {},
   "outputs": [
    {
     "data": {
      "text/plain": [
       "3.261333333333333"
      ]
     },
     "execution_count": 66,
     "metadata": {},
     "output_type": "execute_result"
    }
   ],
   "source": [
    "with open('price_per_sqft.csv', 'r') as csvfile:\n",
    "    count = 0\n",
    "    cumsum = 0\n",
    "    my_csv = csv.reader(csvfile)\n",
    "    next(my_csv)\n",
    "    for row in my_csv:\n",
    "        count += 1\n",
    "        cumsum += float(row[0])\n",
    "#average price per square foot\n",
    "avg_ppsf = cumsum/count\n",
    "avg_ppsf"
   ]
  },
  {
   "cell_type": "markdown",
   "metadata": {},
   "source": [
    "The mean price and mean square foot values were used in place of missing data values in the read files. This could introduce some bias in statistics computed as the real prices and areas could differ significantly from the mean "
   ]
  },
  {
   "cell_type": "markdown",
   "metadata": {
    "collapsed": true
   },
   "source": [
    "## What you've Learnt"
   ]
  },
  {
   "cell_type": "markdown",
   "metadata": {},
   "source": [
    "open('file.extension', 'w' or 'r'  ) \n",
    "w for write mode\n",
    "r for read mode\n",
    "then close('file.extension')"
   ]
  },
  {
   "cell_type": "markdown",
   "metadata": {},
   "source": [
    "### JSON "
   ]
  },
  {
   "cell_type": "markdown",
   "metadata": {},
   "source": [
    "import json\n",
    "\n",
    "\n",
    "json.dump(  ) - to convert python objects to json format\n",
    "json.lead(  ) - open a json file in python"
   ]
  },
  {
   "cell_type": "markdown",
   "metadata": {},
   "source": [
    "### CSV"
   ]
  },
  {
   "cell_type": "code",
   "execution_count": null,
   "metadata": {},
   "outputs": [],
   "source": [
    "import csv\n",
    "\n",
    "csv.writer (   )\n",
    "csv.reaader(   ) to read in csv file\n"
   ]
  }
 ],
 "metadata": {
  "anaconda-cloud": {},
  "kernelspec": {
   "display_name": "Python 3",
   "language": "python",
   "name": "python3"
  },
  "language_info": {
   "codemirror_mode": {
    "name": "ipython",
    "version": 3
   },
   "file_extension": ".py",
   "mimetype": "text/x-python",
   "name": "python",
   "nbconvert_exporter": "python",
   "pygments_lexer": "ipython3",
   "version": "3.7.4"
  },
  "toc": {
   "base_numbering": 1,
   "nav_menu": {},
   "number_sections": true,
   "sideBar": true,
   "skip_h1_title": false,
   "title_cell": "Table of Contents",
   "title_sidebar": "Contents",
   "toc_cell": false,
   "toc_position": {},
   "toc_section_display": true,
   "toc_window_display": false
  },
  "varInspector": {
   "cols": {
    "lenName": 16,
    "lenType": 16,
    "lenVar": 40
   },
   "kernels_config": {
    "python": {
     "delete_cmd_postfix": "",
     "delete_cmd_prefix": "del ",
     "library": "var_list.py",
     "varRefreshCmd": "print(var_dic_list())"
    },
    "r": {
     "delete_cmd_postfix": ") ",
     "delete_cmd_prefix": "rm(",
     "library": "var_list.r",
     "varRefreshCmd": "cat(var_dic_list()) "
    }
   },
   "types_to_exclude": [
    "module",
    "function",
    "builtin_function_or_method",
    "instance",
    "_Feature"
   ],
   "window_display": false
  }
 },
 "nbformat": 4,
 "nbformat_minor": 1
}
