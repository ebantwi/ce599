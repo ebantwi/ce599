{
 "cells": [
  {
   "cell_type": "markdown",
   "metadata": {},
   "source": [
    "### Open Flights Data Wrangling\n",
    "\n",
    "To practice, you are going to wrangle data from OpenFlights.  You can read about it here: \n",
    "\n",
    "http://openflights.org/data.html\n",
    "\n",
    "This includes five files: \n",
    "\n",
    "1. A file with one record for each airport, \n",
    "2. A file with one record for each airline, \n",
    "3. A file with one record for each each route, \n",
    "4. A file with one record for each type of airplane, and\n",
    "5. A file with one record for each country.  \n",
    "\n",
    "Each file has a relationship to the others, with some fields in common.  To make best use of the data, we will need to combine all three files.  This is the core challenge of relational databases.  This lesson looks at how to do that, specifically using the merge() function in python.  \n",
    "\n",
    "Credits:\n",
    "\n",
    "This lesson draws from the Data Analysis and Visualization in Python for Ecologists course by Data Carpentry:\n",
    "\n",
    "https://datacarpentry.org/python-ecology-lesson/05-merging-data/index.html\n",
    "\n",
    "and from the pandas documentation:\n",
    "\n",
    "https://pandas.pydata.org/pandas-docs/stable/user_guide/merging.html\n"
   ]
  },
  {
   "cell_type": "markdown",
   "metadata": {},
   "source": [
    "### Learning Objectives: \n",
    "\n",
    "1. Understand the meaning of relational data and be able to identify common keys. \n",
    "\n",
    "2. Understand the different types of relational joins: concatenate, inner join, outer join, left join, right join. \n",
    "\n",
    "3. Use the pandas syntax pd.concat() and pd.merge() to perform those relational joins. \n",
    "\n",
    "4. Start to build an awareness of open data resources, and of documentation/tutorials for ongoing learning. "
   ]
  },
  {
   "cell_type": "code",
   "execution_count": 1,
   "metadata": {
    "ExecuteTime": {
     "end_time": "2020-02-18T15:42:42.555994Z",
     "start_time": "2020-02-18T15:42:42.094937Z"
    }
   },
   "outputs": [],
   "source": [
    "import pandas as pd\n",
    "import numpy as np"
   ]
  },
  {
   "cell_type": "code",
   "execution_count": 2,
   "metadata": {
    "ExecuteTime": {
     "end_time": "2020-02-18T15:42:42.706225Z",
     "start_time": "2020-02-18T15:42:42.555994Z"
    }
   },
   "outputs": [],
   "source": [
    "# These files use \\N as a missing value indicator.  When reading the CSVs, we will tell\n",
    "# it to use that value as missing or NA.  The double backslash is required because\n",
    "# otherwise it will interpret \\N as a carriage return. \n",
    "\n",
    "# Read in the airports data.\n",
    "airports = pd.read_csv(\"data/airports.dat\", header=None, na_values='\\\\N')\n",
    "airports.columns = [\"ID\", \"NAME\", \"CITY\", \"COUNTRY\", \"IATA\", \"ICAO\", \"LATITUDE\", \"LONGITUDE\", \"ALTITUDE\", \"TIMEZONE\", \"DST\", \"TZ\", \"TYPE\", \"SOURCE\"]\n",
    "\n",
    "# Read in the airlines data.\n",
    "airlines = pd.read_csv(\"data/airlines.dat\", header=None, na_values='\\\\N')\n",
    "airlines.columns = [\"ID\", \"NAME\", \"ALIAS\", \"IATA\", \"ICAO\", \"CALLSIGN\", \"COUNTRY\", \"ACTIVE\"]\n",
    "\n",
    "# Read in the routes data.\n",
    "routes = pd.read_csv(\"data/routes.dat\", header=None, na_values='\\\\N')\n",
    "routes.columns = [\"AIRLINE\", \"AIRLINE_ID\", \"SOURCE\", \"SOURCE_ID\", \"DEST\", \"DEST_ID\", \"CODESHARE\", \"STOPS\", \"EQUIPMENT\"]\n",
    "\n",
    "# Read in the planes data.\n",
    "planes = pd.read_csv(\"data/planes.dat\", header=None, na_values='\\\\N')\n",
    "planes.columns = [\"NAME\", \"IATA\", \"ICAO\"]\n",
    "\n",
    "# Read in the countries data.\n",
    "countries = pd.read_csv(\"data/countries.dat\", header=None, na_values='\\\\N')\n",
    "countries.columns = [\"NAME\", \"ISO\", \"DAFIF\"]"
   ]
  },
  {
   "cell_type": "markdown",
   "metadata": {},
   "source": [
    "### Start by seeing what's in the data.  \n",
    "\n",
    "What columns are there?  What data types are the columns?  \n",
    "\n",
    "Remember, 'object' means it is a string, while the numerical values can be floats or ints.  Sometimes you will have problems if it reads numeric data in as strings.  If that happens, you can use the function .astype() to convert it.  Look it up in the pandas API to get more details"
   ]
  },
  {
   "cell_type": "markdown",
   "metadata": {},
   "source": [
    "Start with the airports table"
   ]
  },
  {
   "cell_type": "code",
   "execution_count": null,
   "metadata": {},
   "outputs": [],
   "source": [
    "# printing the first few rows gives us a good sense of what is in there\n",
    "airports.head()"
   ]
  },
  {
   "cell_type": "code",
   "execution_count": null,
   "metadata": {},
   "outputs": [],
   "source": [
    "# we can also look a the data types\n",
    "# alternatively, we could summarize the data as we did in the previous lesson\n",
    "airports.dtypes"
   ]
  },
  {
   "cell_type": "markdown",
   "metadata": {
    "collapsed": true
   },
   "source": [
    "##### Your turn:  \n",
    "\n",
    "Spend a few minutes examining the remaining tables.  See if you can identify which fields are common across multiple tables.  These are the \"keys\".  Together, we will make sure we have identified the right keys. "
   ]
  },
  {
   "cell_type": "code",
   "execution_count": null,
   "metadata": {},
   "outputs": [],
   "source": [
    "airlines.columns"
   ]
  },
  {
   "cell_type": "code",
   "execution_count": null,
   "metadata": {},
   "outputs": [],
   "source": [
    "routes.columns"
   ]
  },
  {
   "cell_type": "code",
   "execution_count": null,
   "metadata": {},
   "outputs": [],
   "source": [
    "planes.columns"
   ]
  },
  {
   "cell_type": "code",
   "execution_count": null,
   "metadata": {},
   "outputs": [],
   "source": [
    "countries.columns"
   ]
  },
  {
   "cell_type": "code",
   "execution_count": null,
   "metadata": {},
   "outputs": [],
   "source": [
    "airports.head()"
   ]
  },
  {
   "cell_type": "code",
   "execution_count": null,
   "metadata": {},
   "outputs": [],
   "source": [
    "airlines.head()\n"
   ]
  },
  {
   "cell_type": "code",
   "execution_count": null,
   "metadata": {
    "scrolled": true
   },
   "outputs": [],
   "source": [
    "routes.head()"
   ]
  },
  {
   "cell_type": "code",
   "execution_count": null,
   "metadata": {},
   "outputs": [],
   "source": [
    "routes[routes.AIRLINE == '2B'].head(3)"
   ]
  },
  {
   "cell_type": "code",
   "execution_count": null,
   "metadata": {},
   "outputs": [],
   "source": [
    "countries.head()"
   ]
  },
  {
   "cell_type": "code",
   "execution_count": null,
   "metadata": {},
   "outputs": [],
   "source": [
    "planes[planes.IATA == 'CR2']"
   ]
  },
  {
   "cell_type": "markdown",
   "metadata": {},
   "source": [
    "### Selecting data\n",
    "\n",
    "We might want to work with a subset of data.  If so, we can select data just like we did in the previous lesson. "
   ]
  },
  {
   "cell_type": "code",
   "execution_count": null,
   "metadata": {},
   "outputs": [],
   "source": [
    "# we can select all airports in one of the least visited countries on earth\n",
    "airports[airports['COUNTRY']==\"Tuvalu\"]"
   ]
  },
  {
   "cell_type": "code",
   "execution_count": null,
   "metadata": {},
   "outputs": [],
   "source": [
    "# we can select all routes to that airport\n",
    "routes[routes['DEST']=='FUN']"
   ]
  },
  {
   "cell_type": "code",
   "execution_count": null,
   "metadata": {},
   "outputs": [],
   "source": [
    "# and routes from that airport\n",
    "routes[routes['SOURCE']=='FUN']"
   ]
  },
  {
   "cell_type": "code",
   "execution_count": null,
   "metadata": {},
   "outputs": [],
   "source": [
    "# where are these flights going to/from? \n"
   ]
  },
  {
   "cell_type": "code",
   "execution_count": null,
   "metadata": {},
   "outputs": [],
   "source": [
    "airports[airports.IATA == 'ORD']"
   ]
  },
  {
   "cell_type": "markdown",
   "metadata": {},
   "source": [
    "#####  Your turn: \n",
    "\n",
    "Select just the routes that go to or from Lexington Bluegrass Airport, and store them in their own dataframe.  \n",
    "\n",
    "The airport code is LEX.  You should have a much smaller dataframe.  How many inbound routes and how many outbound routes are there? "
   ]
  },
  {
   "cell_type": "code",
   "execution_count": null,
   "metadata": {},
   "outputs": [],
   "source": [
    "lex_routes = routes[(routes.DEST == 'LEX') | (routes.SOURCE == 'LEX')]\n",
    "lex_routes"
   ]
  },
  {
   "cell_type": "code",
   "execution_count": null,
   "metadata": {},
   "outputs": [],
   "source": [
    "len(lex_routes[lex_routes.DEST == 'LEX'])"
   ]
  },
  {
   "cell_type": "markdown",
   "metadata": {},
   "source": [
    "### Concatentating data\n",
    "\n",
    "To concatenate is to link things together in a series or chain.  It is similar to, but more powerful than appending data, because it can work on either rows or columns, is faster, and will perform set logic (union or intersection).  "
   ]
  },
  {
   "cell_type": "code",
   "execution_count": 28,
   "metadata": {},
   "outputs": [],
   "source": [
    "# let's go back and contatenate the routes both to and from Tuvalu\n",
    "to_tuvalu = routes[routes['DEST']=='FUN']\n",
    "from_tuvalu = routes[routes['SOURCE']=='FUN']\n"
   ]
  },
  {
   "cell_type": "code",
   "execution_count": 29,
   "metadata": {},
   "outputs": [
    {
     "data": {
      "text/html": [
       "<div>\n",
       "<style scoped>\n",
       "    .dataframe tbody tr th:only-of-type {\n",
       "        vertical-align: middle;\n",
       "    }\n",
       "\n",
       "    .dataframe tbody tr th {\n",
       "        vertical-align: top;\n",
       "    }\n",
       "\n",
       "    .dataframe thead th {\n",
       "        text-align: right;\n",
       "    }\n",
       "</style>\n",
       "<table border=\"1\" class=\"dataframe\">\n",
       "  <thead>\n",
       "    <tr style=\"text-align: right;\">\n",
       "      <th></th>\n",
       "      <th>AIRLINE</th>\n",
       "      <th>AIRLINE_ID</th>\n",
       "      <th>SOURCE</th>\n",
       "      <th>SOURCE_ID</th>\n",
       "      <th>DEST</th>\n",
       "      <th>DEST_ID</th>\n",
       "      <th>CODESHARE</th>\n",
       "      <th>STOPS</th>\n",
       "      <th>EQUIPMENT</th>\n",
       "    </tr>\n",
       "  </thead>\n",
       "  <tbody>\n",
       "    <tr>\n",
       "      <td>24819</td>\n",
       "      <td>FJ</td>\n",
       "      <td>879.0</td>\n",
       "      <td>SUV</td>\n",
       "      <td>1961.0</td>\n",
       "      <td>FUN</td>\n",
       "      <td>4077.0</td>\n",
       "      <td>NaN</td>\n",
       "      <td>0</td>\n",
       "      <td>AT5</td>\n",
       "    </tr>\n",
       "    <tr>\n",
       "      <td>24784</td>\n",
       "      <td>FJ</td>\n",
       "      <td>879.0</td>\n",
       "      <td>FUN</td>\n",
       "      <td>4077.0</td>\n",
       "      <td>SUV</td>\n",
       "      <td>1961.0</td>\n",
       "      <td>NaN</td>\n",
       "      <td>0</td>\n",
       "      <td>AT5</td>\n",
       "    </tr>\n",
       "  </tbody>\n",
       "</table>\n",
       "</div>"
      ],
      "text/plain": [
       "      AIRLINE  AIRLINE_ID SOURCE  SOURCE_ID DEST  DEST_ID CODESHARE  STOPS  \\\n",
       "24819      FJ       879.0    SUV     1961.0  FUN   4077.0       NaN      0   \n",
       "24784      FJ       879.0    FUN     4077.0  SUV   1961.0       NaN      0   \n",
       "\n",
       "      EQUIPMENT  \n",
       "24819       AT5  \n",
       "24784       AT5  "
      ]
     },
     "execution_count": 29,
     "metadata": {},
     "output_type": "execute_result"
    }
   ],
   "source": [
    "# the basic function, given a list of dataframes to concatenate\n",
    "# note that we call concatenate as a \"static\" method, rather than a method \n",
    "# associated with a specific object. \n",
    "\n",
    "pd.concat([to_tuvalu, from_tuvalu])"
   ]
  },
  {
   "cell_type": "code",
   "execution_count": 30,
   "metadata": {},
   "outputs": [],
   "source": [
    "# if we want to use the dataframe later, we need to assign it to a variable name\n",
    "\n",
    "tuvalu_routes = pd.concat([to_tuvalu, from_tuvalu])"
   ]
  },
  {
   "cell_type": "markdown",
   "metadata": {},
   "source": [
    "Note to see more about this method, we can examine the pandas docs:\n",
    "\n",
    "https://pandas.pydata.org/pandas-docs/stable/user_guide/merging.html"
   ]
  },
  {
   "cell_type": "code",
   "execution_count": 31,
   "metadata": {},
   "outputs": [
    {
     "data": {
      "text/html": [
       "<div>\n",
       "<style scoped>\n",
       "    .dataframe tbody tr th:only-of-type {\n",
       "        vertical-align: middle;\n",
       "    }\n",
       "\n",
       "    .dataframe tbody tr th {\n",
       "        vertical-align: top;\n",
       "    }\n",
       "\n",
       "    .dataframe thead th {\n",
       "        text-align: right;\n",
       "    }\n",
       "</style>\n",
       "<table border=\"1\" class=\"dataframe\">\n",
       "  <thead>\n",
       "    <tr style=\"text-align: right;\">\n",
       "      <th></th>\n",
       "      <th>AIRLINE</th>\n",
       "      <th>AIRLINE_ID</th>\n",
       "      <th>SOURCE</th>\n",
       "      <th>SOURCE_ID</th>\n",
       "      <th>DEST</th>\n",
       "      <th>DEST_ID</th>\n",
       "      <th>CODESHARE</th>\n",
       "      <th>STOPS</th>\n",
       "      <th>EQUIPMENT</th>\n",
       "      <th>AIRLINE</th>\n",
       "      <th>AIRLINE_ID</th>\n",
       "      <th>SOURCE</th>\n",
       "      <th>SOURCE_ID</th>\n",
       "      <th>DEST</th>\n",
       "      <th>DEST_ID</th>\n",
       "      <th>CODESHARE</th>\n",
       "      <th>STOPS</th>\n",
       "      <th>EQUIPMENT</th>\n",
       "    </tr>\n",
       "  </thead>\n",
       "  <tbody>\n",
       "    <tr>\n",
       "      <td>24784</td>\n",
       "      <td>NaN</td>\n",
       "      <td>NaN</td>\n",
       "      <td>NaN</td>\n",
       "      <td>NaN</td>\n",
       "      <td>NaN</td>\n",
       "      <td>NaN</td>\n",
       "      <td>NaN</td>\n",
       "      <td>NaN</td>\n",
       "      <td>NaN</td>\n",
       "      <td>FJ</td>\n",
       "      <td>879.0</td>\n",
       "      <td>FUN</td>\n",
       "      <td>4077.0</td>\n",
       "      <td>SUV</td>\n",
       "      <td>1961.0</td>\n",
       "      <td>NaN</td>\n",
       "      <td>0.0</td>\n",
       "      <td>AT5</td>\n",
       "    </tr>\n",
       "    <tr>\n",
       "      <td>24819</td>\n",
       "      <td>FJ</td>\n",
       "      <td>879.0</td>\n",
       "      <td>SUV</td>\n",
       "      <td>1961.0</td>\n",
       "      <td>FUN</td>\n",
       "      <td>4077.0</td>\n",
       "      <td>NaN</td>\n",
       "      <td>0.0</td>\n",
       "      <td>AT5</td>\n",
       "      <td>NaN</td>\n",
       "      <td>NaN</td>\n",
       "      <td>NaN</td>\n",
       "      <td>NaN</td>\n",
       "      <td>NaN</td>\n",
       "      <td>NaN</td>\n",
       "      <td>NaN</td>\n",
       "      <td>NaN</td>\n",
       "      <td>NaN</td>\n",
       "    </tr>\n",
       "  </tbody>\n",
       "</table>\n",
       "</div>"
      ],
      "text/plain": [
       "      AIRLINE  AIRLINE_ID SOURCE  SOURCE_ID DEST  DEST_ID CODESHARE  STOPS  \\\n",
       "24784     NaN         NaN    NaN        NaN  NaN      NaN       NaN    NaN   \n",
       "24819      FJ       879.0    SUV     1961.0  FUN   4077.0       NaN    0.0   \n",
       "\n",
       "      EQUIPMENT AIRLINE  AIRLINE_ID SOURCE  SOURCE_ID DEST  DEST_ID CODESHARE  \\\n",
       "24784       NaN      FJ       879.0    FUN     4077.0  SUV   1961.0       NaN   \n",
       "24819       AT5     NaN         NaN    NaN        NaN  NaN      NaN       NaN   \n",
       "\n",
       "       STOPS EQUIPMENT  \n",
       "24784    0.0       AT5  \n",
       "24819    NaN       NaN  "
      ]
     },
     "execution_count": 31,
     "metadata": {},
     "output_type": "execute_result"
    }
   ],
   "source": [
    "# note that one of the arguments is axis.  \n",
    "# axis=0 indicates that the rows should be concatenated, \n",
    "# while axis=1 indicates to concatenate the columns \n",
    "\n",
    "pd.concat([to_tuvalu, from_tuvalu], axis=1)"
   ]
  },
  {
   "cell_type": "markdown",
   "metadata": {},
   "source": [
    "##### Your turn:\n",
    "\n",
    "Can you use the concat() function to create one dataframe with flights both into and out of LEX?"
   ]
  },
  {
   "cell_type": "code",
   "execution_count": null,
   "metadata": {},
   "outputs": [],
   "source": []
  },
  {
   "cell_type": "markdown",
   "metadata": {},
   "source": [
    "### Merging data\n",
    "\n",
    "Sometimes we want to merge, or join, the data instead of concatenating it.  For example, maybe we hate flying on small planes, so want to know what kind of aircraft we would need to fly on to visit Tuvalu.  This data comes from a different table. "
   ]
  },
  {
   "cell_type": "code",
   "execution_count": 32,
   "metadata": {},
   "outputs": [
    {
     "data": {
      "text/html": [
       "<div>\n",
       "<style scoped>\n",
       "    .dataframe tbody tr th:only-of-type {\n",
       "        vertical-align: middle;\n",
       "    }\n",
       "\n",
       "    .dataframe tbody tr th {\n",
       "        vertical-align: top;\n",
       "    }\n",
       "\n",
       "    .dataframe thead th {\n",
       "        text-align: right;\n",
       "    }\n",
       "</style>\n",
       "<table border=\"1\" class=\"dataframe\">\n",
       "  <thead>\n",
       "    <tr style=\"text-align: right;\">\n",
       "      <th></th>\n",
       "      <th>AIRLINE</th>\n",
       "      <th>AIRLINE_ID</th>\n",
       "      <th>SOURCE</th>\n",
       "      <th>SOURCE_ID</th>\n",
       "      <th>DEST</th>\n",
       "      <th>DEST_ID</th>\n",
       "      <th>CODESHARE</th>\n",
       "      <th>STOPS</th>\n",
       "      <th>EQUIPMENT</th>\n",
       "    </tr>\n",
       "  </thead>\n",
       "  <tbody>\n",
       "    <tr>\n",
       "      <td>24819</td>\n",
       "      <td>FJ</td>\n",
       "      <td>879.0</td>\n",
       "      <td>SUV</td>\n",
       "      <td>1961.0</td>\n",
       "      <td>FUN</td>\n",
       "      <td>4077.0</td>\n",
       "      <td>NaN</td>\n",
       "      <td>0</td>\n",
       "      <td>AT5</td>\n",
       "    </tr>\n",
       "    <tr>\n",
       "      <td>24784</td>\n",
       "      <td>FJ</td>\n",
       "      <td>879.0</td>\n",
       "      <td>FUN</td>\n",
       "      <td>4077.0</td>\n",
       "      <td>SUV</td>\n",
       "      <td>1961.0</td>\n",
       "      <td>NaN</td>\n",
       "      <td>0</td>\n",
       "      <td>AT5</td>\n",
       "    </tr>\n",
       "  </tbody>\n",
       "</table>\n",
       "</div>"
      ],
      "text/plain": [
       "      AIRLINE  AIRLINE_ID SOURCE  SOURCE_ID DEST  DEST_ID CODESHARE  STOPS  \\\n",
       "24819      FJ       879.0    SUV     1961.0  FUN   4077.0       NaN      0   \n",
       "24784      FJ       879.0    FUN     4077.0  SUV   1961.0       NaN      0   \n",
       "\n",
       "      EQUIPMENT  \n",
       "24819       AT5  \n",
       "24784       AT5  "
      ]
     },
     "execution_count": 32,
     "metadata": {},
     "output_type": "execute_result"
    }
   ],
   "source": [
    "# we see that the Tuvalu routes operate with AT5 equipment\n",
    "tuvalu_routes"
   ]
  },
  {
   "cell_type": "code",
   "execution_count": 33,
   "metadata": {},
   "outputs": [
    {
     "data": {
      "text/html": [
       "<div>\n",
       "<style scoped>\n",
       "    .dataframe tbody tr th:only-of-type {\n",
       "        vertical-align: middle;\n",
       "    }\n",
       "\n",
       "    .dataframe tbody tr th {\n",
       "        vertical-align: top;\n",
       "    }\n",
       "\n",
       "    .dataframe thead th {\n",
       "        text-align: right;\n",
       "    }\n",
       "</style>\n",
       "<table border=\"1\" class=\"dataframe\">\n",
       "  <thead>\n",
       "    <tr style=\"text-align: right;\">\n",
       "      <th></th>\n",
       "      <th>NAME</th>\n",
       "      <th>IATA</th>\n",
       "      <th>ICAO</th>\n",
       "    </tr>\n",
       "  </thead>\n",
       "  <tbody>\n",
       "    <tr>\n",
       "      <td>0</td>\n",
       "      <td>Aerospatiale (Nord) 262</td>\n",
       "      <td>ND2</td>\n",
       "      <td>N262</td>\n",
       "    </tr>\n",
       "    <tr>\n",
       "      <td>1</td>\n",
       "      <td>Aerospatiale (Sud Aviation) Se.210 Caravelle</td>\n",
       "      <td>CRV</td>\n",
       "      <td>S210</td>\n",
       "    </tr>\n",
       "    <tr>\n",
       "      <td>2</td>\n",
       "      <td>Aerospatiale SN.601 Corvette</td>\n",
       "      <td>NDC</td>\n",
       "      <td>S601</td>\n",
       "    </tr>\n",
       "    <tr>\n",
       "      <td>3</td>\n",
       "      <td>Aerospatiale/Alenia ATR 42-300</td>\n",
       "      <td>AT4</td>\n",
       "      <td>AT43</td>\n",
       "    </tr>\n",
       "    <tr>\n",
       "      <td>4</td>\n",
       "      <td>Aerospatiale/Alenia ATR 42-500</td>\n",
       "      <td>AT5</td>\n",
       "      <td>AT45</td>\n",
       "    </tr>\n",
       "  </tbody>\n",
       "</table>\n",
       "</div>"
      ],
      "text/plain": [
       "                                           NAME IATA  ICAO\n",
       "0                       Aerospatiale (Nord) 262  ND2  N262\n",
       "1  Aerospatiale (Sud Aviation) Se.210 Caravelle  CRV  S210\n",
       "2                  Aerospatiale SN.601 Corvette  NDC  S601\n",
       "3                Aerospatiale/Alenia ATR 42-300  AT4  AT43\n",
       "4                Aerospatiale/Alenia ATR 42-500  AT5  AT45"
      ]
     },
     "execution_count": 33,
     "metadata": {},
     "output_type": "execute_result"
    }
   ],
   "source": [
    "# but what is an AT5? Let's look in the planes table. \n",
    "planes.head()"
   ]
  },
  {
   "cell_type": "code",
   "execution_count": 34,
   "metadata": {},
   "outputs": [
    {
     "data": {
      "text/html": [
       "<div>\n",
       "<style scoped>\n",
       "    .dataframe tbody tr th:only-of-type {\n",
       "        vertical-align: middle;\n",
       "    }\n",
       "\n",
       "    .dataframe tbody tr th {\n",
       "        vertical-align: top;\n",
       "    }\n",
       "\n",
       "    .dataframe thead th {\n",
       "        text-align: right;\n",
       "    }\n",
       "</style>\n",
       "<table border=\"1\" class=\"dataframe\">\n",
       "  <thead>\n",
       "    <tr style=\"text-align: right;\">\n",
       "      <th></th>\n",
       "      <th>AIRLINE</th>\n",
       "      <th>AIRLINE_ID</th>\n",
       "      <th>SOURCE</th>\n",
       "      <th>SOURCE_ID</th>\n",
       "      <th>DEST</th>\n",
       "      <th>DEST_ID</th>\n",
       "      <th>CODESHARE</th>\n",
       "      <th>STOPS</th>\n",
       "      <th>EQUIPMENT</th>\n",
       "      <th>NAME</th>\n",
       "      <th>IATA</th>\n",
       "      <th>ICAO</th>\n",
       "    </tr>\n",
       "  </thead>\n",
       "  <tbody>\n",
       "    <tr>\n",
       "      <td>0</td>\n",
       "      <td>FJ</td>\n",
       "      <td>879.0</td>\n",
       "      <td>SUV</td>\n",
       "      <td>1961.0</td>\n",
       "      <td>FUN</td>\n",
       "      <td>4077.0</td>\n",
       "      <td>NaN</td>\n",
       "      <td>0</td>\n",
       "      <td>AT5</td>\n",
       "      <td>Aerospatiale/Alenia ATR 42-500</td>\n",
       "      <td>AT5</td>\n",
       "      <td>AT45</td>\n",
       "    </tr>\n",
       "    <tr>\n",
       "      <td>1</td>\n",
       "      <td>FJ</td>\n",
       "      <td>879.0</td>\n",
       "      <td>FUN</td>\n",
       "      <td>4077.0</td>\n",
       "      <td>SUV</td>\n",
       "      <td>1961.0</td>\n",
       "      <td>NaN</td>\n",
       "      <td>0</td>\n",
       "      <td>AT5</td>\n",
       "      <td>Aerospatiale/Alenia ATR 42-500</td>\n",
       "      <td>AT5</td>\n",
       "      <td>AT45</td>\n",
       "    </tr>\n",
       "  </tbody>\n",
       "</table>\n",
       "</div>"
      ],
      "text/plain": [
       "  AIRLINE  AIRLINE_ID SOURCE  SOURCE_ID DEST  DEST_ID CODESHARE  STOPS  \\\n",
       "0      FJ       879.0    SUV     1961.0  FUN   4077.0       NaN      0   \n",
       "1      FJ       879.0    FUN     4077.0  SUV   1961.0       NaN      0   \n",
       "\n",
       "  EQUIPMENT                            NAME IATA  ICAO  \n",
       "0       AT5  Aerospatiale/Alenia ATR 42-500  AT5  AT45  \n",
       "1       AT5  Aerospatiale/Alenia ATR 42-500  AT5  AT45  "
      ]
     },
     "execution_count": 34,
     "metadata": {},
     "output_type": "execute_result"
    }
   ],
   "source": [
    "# in this case, we are lucky, and it is in the first few rows.  But to do this systemactically, we\n",
    "# would want to join the tables.  To do this, we use the merge() function in pandas.  \n",
    "\n",
    "pd.merge(tuvalu_routes, planes, left_on='EQUIPMENT', right_on='IATA')"
   ]
  },
  {
   "cell_type": "markdown",
   "metadata": {},
   "source": []
  },
  {
   "cell_type": "markdown",
   "metadata": {},
   "source": [
    "Let's stop and look at what is going on in the above command. \n",
    "\n",
    "It is important to understand the type of merge, as specified by the how option.  Here is what the pandas docs say:\n",
    "\n",
    "\n",
    "![alt text](img/how.png)\n",
    "\n",
    "\n",
    "![alt text](img/how2.png)\n",
    "\n",
    "So it looks like the above merge defaulted to an inner join"
   ]
  },
  {
   "cell_type": "markdown",
   "metadata": {},
   "source": [
    "\n",
    "![alt text](img/inner.png)"
   ]
  },
  {
   "cell_type": "code",
   "execution_count": null,
   "metadata": {},
   "outputs": [],
   "source": [
    "# we can check this by explicitly setting the option and confirming that we get the same result  \n",
    "# next, let's check what happens if we choose the other options\n",
    "\n",
    "pd.merge(tuvalu_routes, planes, left_on='EQUIPMENT', right_on='IATA', how='inner')"
   ]
  },
  {
   "cell_type": "code",
   "execution_count": null,
   "metadata": {},
   "outputs": [],
   "source": [
    "# outer join\n",
    "\n",
    "pd.merge(tuvalu_routes, planes, left_on='EQUIPMENT', right_on='IATA', how='outer')"
   ]
  },
  {
   "cell_type": "code",
   "execution_count": null,
   "metadata": {},
   "outputs": [],
   "source": [
    "# left join\n",
    "\n",
    "pd.merge(tuvalu_routes, planes, left_on='EQUIPMENT', right_on='IATA', how='left')"
   ]
  },
  {
   "cell_type": "code",
   "execution_count": null,
   "metadata": {},
   "outputs": [],
   "source": [
    "# right join\n",
    "\n",
    "pd.merge(tuvalu_routes, planes, left_on='EQUIPMENT', right_on='IATA', how='right')"
   ]
  },
  {
   "cell_type": "markdown",
   "metadata": {},
   "source": [
    "I find that I most often want a left join, as described here: \n",
    "\n",
    "![alt text](img/left.png)"
   ]
  },
  {
   "cell_type": "markdown",
   "metadata": {},
   "source": [
    "It may be worth examining some of the other options used in merge().  We can refer to the pandas documentation to learn more. \n",
    "\n",
    "https://pandas.pydata.org/pandas-docs/stable/user_guide/merging.html#database-style-dataframe-or-named-series-joining-merging"
   ]
  },
  {
   "cell_type": "code",
   "execution_count": null,
   "metadata": {},
   "outputs": [],
   "source": [
    "lex_routes.reset_index()"
   ]
  },
  {
   "cell_type": "markdown",
   "metadata": {},
   "source": [
    "routes, airlines, planes, airports, countries "
   ]
  },
  {
   "cell_type": "markdown",
   "metadata": {},
   "source": [
    "#### Your turn\n",
    "\n",
    "Now let's look at which airlines operate in and out of Lexington.  How many routes does each airline have?  \n",
    "\n",
    "First, let's spend some time planning together.  Then individually take some time to implement the code we planned. "
   ]
  },
  {
   "cell_type": "code",
   "execution_count": null,
   "metadata": {
    "scrolled": true
   },
   "outputs": [],
   "source": [
    "lex_air = pd.merge(lex_routes, airlines, left_on= 'AIRLINE_ID', right_on= 'ID', how = 'inner')\n",
    "lex_air.head()\n",
    "lex_air['international'] = None\n",
    "for x in lex_air.index:\n",
    "    lex_air['international'][x] = 'True' if ((lex_air['NAME'][x] == 'Air France') | (lex_air['NAME'][x] == 'KLM Royal Dutch Airlines')) else 'false'"
   ]
  },
  {
   "cell_type": "code",
   "execution_count": null,
   "metadata": {},
   "outputs": [],
   "source": [
    "#which airlines operate inand out of lexington?\n",
    "lex_air"
   ]
  },
  {
   "cell_type": "code",
   "execution_count": null,
   "metadata": {},
   "outputs": [],
   "source": [
    "airlist = ['Pinnacle Airlines', 'American Airlines', 'Air France','Delta Air Lines', 'Allegiant Air', 'KLM Royal Dutch Airlines','United Airlines', 'US Airways']\n",
    "nroute = [len(lex_air[lex_air['NAME'] == x ]) for x in airlist]\n",
    "nroutedict = {'NumberofRoutes' : nroute}\n"
   ]
  },
  {
   "cell_type": "code",
   "execution_count": null,
   "metadata": {},
   "outputs": [],
   "source": [
    "a = {'airline': ['Pinnacle Airlines', 'American Airlines', 'Air France',\n",
    "       'Delta Air Lines', 'Allegiant Air', 'KLM Royal Dutch Airlines',\n",
    "       'United Airlines', 'US Airways']}\n",
    "dd = pd.DataFrame(a)\n",
    "#pd.concat(dd, pd.DataFrame(nroutedict))\n",
    "nr =pd.DataFrame(nroutedict)\n",
    "dd['Number of routes'] = nr.NumberofRoutes[0:]"
   ]
  },
  {
   "cell_type": "code",
   "execution_count": null,
   "metadata": {},
   "outputs": [],
   "source": [
    "dd"
   ]
  },
  {
   "cell_type": "code",
   "execution_count": null,
   "metadata": {},
   "outputs": [],
   "source": [
    "#How many airlines operate out of Lexington?\n",
    "len(lex_air.NAME.unique())"
   ]
  },
  {
   "cell_type": "markdown",
   "metadata": {},
   "source": [
    "#### It looks like there are some international airlines with Lexington routes.  \n",
    "\n",
    "To look at how many routes they have, create a new column in your dataframe called 'International', which is set to True for an overseas airline and False for a domestic airline.  Calculate the percent of routes with an overseas airline.  \n",
    "\n",
    "You should have the tools you need to answer this question using what we learned in last week's lesson.  Again, let's start by planning together, then implement the code on your own.  "
   ]
  },
  {
   "cell_type": "code",
   "execution_count": null,
   "metadata": {},
   "outputs": [],
   "source": [
    "percentinternational = (len(lex_air[lex_air.international == 'True']) / len(lex_air)) * 100"
   ]
  },
  {
   "cell_type": "code",
   "execution_count": null,
   "metadata": {},
   "outputs": [],
   "source": [
    "percentinternational"
   ]
  },
  {
   "cell_type": "markdown",
   "metadata": {},
   "source": [
    "#### Codeshares\n",
    "\n",
    "It looks like a bunch of these routes are codeshares.  That means they are marketed by this airline, but operated by a different airline.  See the note in the data documentation on openflights.org/data.  The implication of this is that there are duplicates.\n",
    "\n",
    "Can you figure out which ones are duplicates?  Can you then create a dataframe with only the unique routes?  How many unique inbound and outbound routes are there? \n",
    "\n",
    "Remember, someone has to operate the flight, so if all the routes to/from a particular airport are listed as codeshares, then something is funny...\n",
    "\n",
    "It is also possible that more than one airline actually operates a route between the same two airports. (Having this sort of competition generally means that you will get better fares as a traveler.)  It may not be obvious what is actually in the data set, so dig or do external research as needed.  \n",
    "\n",
    "It is this sort of messiness that will consume much of your effort in research and data science.  It is very important to \"become one with your data\". \n",
    "\n",
    "Figuring this out will be the first part of your homework.  "
   ]
  },
  {
   "cell_type": "markdown",
   "metadata": {},
   "source": [
    "### Review Questions: \n",
    "\n",
    "1. What is a key in relational data? \n",
    "\n",
    "2. Explain the difference between a left join and an outer join.  \n",
    "\n",
    "3. Explain the difference between pd.concat() and pd.merge()\n",
    "\n",
    "4. Identify two possible places to look for help if you get stuck on the homework. "
   ]
  },
  {
   "cell_type": "markdown",
   "metadata": {},
   "source": [
    "### Homework 1 - Code shares\n",
    "\n",
    "Dig into the data as described above, and do your best to identify which routes are code shares, and how many unique routes operate into/out of Lexington."
   ]
  },
  {
   "cell_type": "code",
   "execution_count": null,
   "metadata": {},
   "outputs": [],
   "source": [
    "lex_routes = routes[(routes.DEST == 'LEX') | (routes.SOURCE == 'LEX')].reset_index()\n",
    "lex_routes.tail()"
   ]
  },
  {
   "cell_type": "code",
   "execution_count": null,
   "metadata": {},
   "outputs": [],
   "source": [
    "lex_duplicate_routes = lex_routes[lex_routes['CODESHARE'].notnull()].reset_index()"
   ]
  },
  {
   "cell_type": "code",
   "execution_count": null,
   "metadata": {},
   "outputs": [],
   "source": [
    "lex_unique_routes = lex_routes[lex_routes['CODESHARE'].isnull()].reset_index()\n",
    "lex_unique_routes.tail()"
   ]
  },
  {
   "cell_type": "code",
   "execution_count": null,
   "metadata": {},
   "outputs": [],
   "source": [
    "a = []\n",
    "for x in lex_unique_routes.index:\n",
    "    a.append((lex_unique_routes.SOURCE[x],lex_unique_routes.DEST[x]))\n",
    "b = []\n",
    "for x in lex_unique_routes.index:\n",
    "    b.append((lex_unique_routes.DEST[x],lex_unique_routes.SOURCE[x]))"
   ]
  },
  {
   "cell_type": "code",
   "execution_count": null,
   "metadata": {},
   "outputs": [],
   "source": [
    "lex_unique_routes['OD'] = a[0:]\n",
    "lex_unique_routes['DO'] = b[0:]\n"
   ]
  },
  {
   "cell_type": "code",
   "execution_count": null,
   "metadata": {},
   "outputs": [],
   "source": [
    "lex_unique_routes.drop_duplicates('OD', inplace = True)"
   ]
  },
  {
   "cell_type": "code",
   "execution_count": null,
   "metadata": {},
   "outputs": [],
   "source": [
    "lex_unique_routes"
   ]
  },
  {
   "cell_type": "code",
   "execution_count": null,
   "metadata": {},
   "outputs": [],
   "source": [
    "lex_unique_routes.OD[0] not in c"
   ]
  },
  {
   "cell_type": "code",
   "execution_count": null,
   "metadata": {},
   "outputs": [],
   "source": [
    "duplicate_routes = routes[routes['CODESHARE'].notnull()].reset_index()"
   ]
  },
  {
   "cell_type": "code",
   "execution_count": null,
   "metadata": {},
   "outputs": [],
   "source": [
    "unique_routes = routes[routes['CODESHARE'].isnull()].reset_index()"
   ]
  },
  {
   "cell_type": "code",
   "execution_count": null,
   "metadata": {},
   "outputs": [],
   "source": [
    "lex_unique_routes.OD[0] == lex_unique_routes.DO[1]"
   ]
  },
  {
   "cell_type": "code",
   "execution_count": null,
   "metadata": {},
   "outputs": [],
   "source": []
  },
  {
   "cell_type": "code",
   "execution_count": null,
   "metadata": {},
   "outputs": [],
   "source": [
    "\n"
   ]
  },
  {
   "cell_type": "code",
   "execution_count": null,
   "metadata": {},
   "outputs": [],
   "source": []
  },
  {
   "cell_type": "code",
   "execution_count": null,
   "metadata": {},
   "outputs": [],
   "source": [
    "lex_duplicate_routes"
   ]
  },
  {
   "cell_type": "markdown",
   "metadata": {},
   "source": [
    "### Homework 2 - The Kevin Bacon Game\n",
    "\n",
    "Of course, it is possible to fly beyond those few cities from Lexington--you just have to transfer to get there.  Your task is to:\n",
    "\n",
    "1. Identify which airports you can get to from Lexington with only one transfer.  \n",
    "2. Identify which airports you can get to from Lexington with two transfers.\n",
    "\n",
    "You have the tools to do this using the merge functionality presented today, but you will need to be smart about what you are merging.  \n",
    "\n",
    "Next class, we will use these data to make interactive maps of these flight routes, similar to what you see in the back of the airline magazines.  \n",
    "\n",
    "\n",
    "#### Bonus: \n",
    "\n",
    "This is the air travel version of the Kevin Bacon game (https://oracleofbacon.org/). What is the number N, such that you can reach every airport in the world with N or fewer transfers?\n",
    "\n",
    "#### Extra Bonus: \n",
    "\n",
    "Use this very important piece of knowledge to impress your friends at parties!"
   ]
  },
  {
   "cell_type": "code",
   "execution_count": 3,
   "metadata": {
    "ExecuteTime": {
     "end_time": "2020-02-18T15:42:49.509067Z",
     "start_time": "2020-02-18T15:42:49.469967Z"
    }
   },
   "outputs": [
    {
     "data": {
      "text/html": [
       "<div>\n",
       "<style scoped>\n",
       "    .dataframe tbody tr th:only-of-type {\n",
       "        vertical-align: middle;\n",
       "    }\n",
       "\n",
       "    .dataframe tbody tr th {\n",
       "        vertical-align: top;\n",
       "    }\n",
       "\n",
       "    .dataframe thead th {\n",
       "        text-align: right;\n",
       "    }\n",
       "</style>\n",
       "<table border=\"1\" class=\"dataframe\">\n",
       "  <thead>\n",
       "    <tr style=\"text-align: right;\">\n",
       "      <th></th>\n",
       "      <th>AIRLINE</th>\n",
       "      <th>AIRLINE_ID</th>\n",
       "      <th>SOURCE</th>\n",
       "      <th>SOURCE_ID</th>\n",
       "      <th>DEST</th>\n",
       "      <th>DEST_ID</th>\n",
       "      <th>CODESHARE</th>\n",
       "      <th>STOPS</th>\n",
       "      <th>EQUIPMENT</th>\n",
       "    </tr>\n",
       "  </thead>\n",
       "  <tbody>\n",
       "    <tr>\n",
       "      <td>0</td>\n",
       "      <td>2B</td>\n",
       "      <td>410.0</td>\n",
       "      <td>AER</td>\n",
       "      <td>2965.0</td>\n",
       "      <td>KZN</td>\n",
       "      <td>2990.0</td>\n",
       "      <td>NaN</td>\n",
       "      <td>0</td>\n",
       "      <td>CR2</td>\n",
       "    </tr>\n",
       "    <tr>\n",
       "      <td>1</td>\n",
       "      <td>2B</td>\n",
       "      <td>410.0</td>\n",
       "      <td>ASF</td>\n",
       "      <td>2966.0</td>\n",
       "      <td>KZN</td>\n",
       "      <td>2990.0</td>\n",
       "      <td>NaN</td>\n",
       "      <td>0</td>\n",
       "      <td>CR2</td>\n",
       "    </tr>\n",
       "    <tr>\n",
       "      <td>2</td>\n",
       "      <td>2B</td>\n",
       "      <td>410.0</td>\n",
       "      <td>ASF</td>\n",
       "      <td>2966.0</td>\n",
       "      <td>MRV</td>\n",
       "      <td>2962.0</td>\n",
       "      <td>NaN</td>\n",
       "      <td>0</td>\n",
       "      <td>CR2</td>\n",
       "    </tr>\n",
       "    <tr>\n",
       "      <td>3</td>\n",
       "      <td>2B</td>\n",
       "      <td>410.0</td>\n",
       "      <td>CEK</td>\n",
       "      <td>2968.0</td>\n",
       "      <td>KZN</td>\n",
       "      <td>2990.0</td>\n",
       "      <td>NaN</td>\n",
       "      <td>0</td>\n",
       "      <td>CR2</td>\n",
       "    </tr>\n",
       "    <tr>\n",
       "      <td>4</td>\n",
       "      <td>2B</td>\n",
       "      <td>410.0</td>\n",
       "      <td>CEK</td>\n",
       "      <td>2968.0</td>\n",
       "      <td>OVB</td>\n",
       "      <td>4078.0</td>\n",
       "      <td>NaN</td>\n",
       "      <td>0</td>\n",
       "      <td>CR2</td>\n",
       "    </tr>\n",
       "  </tbody>\n",
       "</table>\n",
       "</div>"
      ],
      "text/plain": [
       "  AIRLINE  AIRLINE_ID SOURCE  SOURCE_ID DEST  DEST_ID CODESHARE  STOPS  \\\n",
       "0      2B       410.0    AER     2965.0  KZN   2990.0       NaN      0   \n",
       "1      2B       410.0    ASF     2966.0  KZN   2990.0       NaN      0   \n",
       "2      2B       410.0    ASF     2966.0  MRV   2962.0       NaN      0   \n",
       "3      2B       410.0    CEK     2968.0  KZN   2990.0       NaN      0   \n",
       "4      2B       410.0    CEK     2968.0  OVB   4078.0       NaN      0   \n",
       "\n",
       "  EQUIPMENT  \n",
       "0       CR2  \n",
       "1       CR2  \n",
       "2       CR2  \n",
       "3       CR2  \n",
       "4       CR2  "
      ]
     },
     "execution_count": 3,
     "metadata": {},
     "output_type": "execute_result"
    }
   ],
   "source": [
    "routes.head()"
   ]
  },
  {
   "cell_type": "code",
   "execution_count": 4,
   "metadata": {
    "ExecuteTime": {
     "end_time": "2020-02-18T15:42:50.299517Z",
     "start_time": "2020-02-18T15:42:50.283785Z"
    },
    "scrolled": true
   },
   "outputs": [
    {
     "data": {
      "text/html": [
       "<div>\n",
       "<style scoped>\n",
       "    .dataframe tbody tr th:only-of-type {\n",
       "        vertical-align: middle;\n",
       "    }\n",
       "\n",
       "    .dataframe tbody tr th {\n",
       "        vertical-align: top;\n",
       "    }\n",
       "\n",
       "    .dataframe thead th {\n",
       "        text-align: right;\n",
       "    }\n",
       "</style>\n",
       "<table border=\"1\" class=\"dataframe\">\n",
       "  <thead>\n",
       "    <tr style=\"text-align: right;\">\n",
       "      <th></th>\n",
       "      <th>ID</th>\n",
       "      <th>NAME</th>\n",
       "      <th>CITY</th>\n",
       "      <th>COUNTRY</th>\n",
       "      <th>IATA</th>\n",
       "      <th>ICAO</th>\n",
       "      <th>LATITUDE</th>\n",
       "      <th>LONGITUDE</th>\n",
       "      <th>ALTITUDE</th>\n",
       "      <th>TIMEZONE</th>\n",
       "      <th>DST</th>\n",
       "      <th>TZ</th>\n",
       "      <th>TYPE</th>\n",
       "      <th>SOURCE</th>\n",
       "    </tr>\n",
       "  </thead>\n",
       "  <tbody>\n",
       "    <tr>\n",
       "      <td>0</td>\n",
       "      <td>1</td>\n",
       "      <td>Goroka Airport</td>\n",
       "      <td>Goroka</td>\n",
       "      <td>Papua New Guinea</td>\n",
       "      <td>GKA</td>\n",
       "      <td>AYGA</td>\n",
       "      <td>-6.081690</td>\n",
       "      <td>145.391998</td>\n",
       "      <td>5282</td>\n",
       "      <td>10.0</td>\n",
       "      <td>U</td>\n",
       "      <td>Pacific/Port_Moresby</td>\n",
       "      <td>airport</td>\n",
       "      <td>OurAirports</td>\n",
       "    </tr>\n",
       "    <tr>\n",
       "      <td>1</td>\n",
       "      <td>2</td>\n",
       "      <td>Madang Airport</td>\n",
       "      <td>Madang</td>\n",
       "      <td>Papua New Guinea</td>\n",
       "      <td>MAG</td>\n",
       "      <td>AYMD</td>\n",
       "      <td>-5.207080</td>\n",
       "      <td>145.789001</td>\n",
       "      <td>20</td>\n",
       "      <td>10.0</td>\n",
       "      <td>U</td>\n",
       "      <td>Pacific/Port_Moresby</td>\n",
       "      <td>airport</td>\n",
       "      <td>OurAirports</td>\n",
       "    </tr>\n",
       "    <tr>\n",
       "      <td>2</td>\n",
       "      <td>3</td>\n",
       "      <td>Mount Hagen Kagamuga Airport</td>\n",
       "      <td>Mount Hagen</td>\n",
       "      <td>Papua New Guinea</td>\n",
       "      <td>HGU</td>\n",
       "      <td>AYMH</td>\n",
       "      <td>-5.826790</td>\n",
       "      <td>144.296005</td>\n",
       "      <td>5388</td>\n",
       "      <td>10.0</td>\n",
       "      <td>U</td>\n",
       "      <td>Pacific/Port_Moresby</td>\n",
       "      <td>airport</td>\n",
       "      <td>OurAirports</td>\n",
       "    </tr>\n",
       "    <tr>\n",
       "      <td>3</td>\n",
       "      <td>4</td>\n",
       "      <td>Nadzab Airport</td>\n",
       "      <td>Nadzab</td>\n",
       "      <td>Papua New Guinea</td>\n",
       "      <td>LAE</td>\n",
       "      <td>AYNZ</td>\n",
       "      <td>-6.569803</td>\n",
       "      <td>146.725977</td>\n",
       "      <td>239</td>\n",
       "      <td>10.0</td>\n",
       "      <td>U</td>\n",
       "      <td>Pacific/Port_Moresby</td>\n",
       "      <td>airport</td>\n",
       "      <td>OurAirports</td>\n",
       "    </tr>\n",
       "    <tr>\n",
       "      <td>4</td>\n",
       "      <td>5</td>\n",
       "      <td>Port Moresby Jacksons International Airport</td>\n",
       "      <td>Port Moresby</td>\n",
       "      <td>Papua New Guinea</td>\n",
       "      <td>POM</td>\n",
       "      <td>AYPY</td>\n",
       "      <td>-9.443380</td>\n",
       "      <td>147.220001</td>\n",
       "      <td>146</td>\n",
       "      <td>10.0</td>\n",
       "      <td>U</td>\n",
       "      <td>Pacific/Port_Moresby</td>\n",
       "      <td>airport</td>\n",
       "      <td>OurAirports</td>\n",
       "    </tr>\n",
       "  </tbody>\n",
       "</table>\n",
       "</div>"
      ],
      "text/plain": [
       "   ID                                         NAME          CITY  \\\n",
       "0   1                               Goroka Airport        Goroka   \n",
       "1   2                               Madang Airport        Madang   \n",
       "2   3                 Mount Hagen Kagamuga Airport   Mount Hagen   \n",
       "3   4                               Nadzab Airport        Nadzab   \n",
       "4   5  Port Moresby Jacksons International Airport  Port Moresby   \n",
       "\n",
       "            COUNTRY IATA  ICAO  LATITUDE   LONGITUDE  ALTITUDE  TIMEZONE DST  \\\n",
       "0  Papua New Guinea  GKA  AYGA -6.081690  145.391998      5282      10.0   U   \n",
       "1  Papua New Guinea  MAG  AYMD -5.207080  145.789001        20      10.0   U   \n",
       "2  Papua New Guinea  HGU  AYMH -5.826790  144.296005      5388      10.0   U   \n",
       "3  Papua New Guinea  LAE  AYNZ -6.569803  146.725977       239      10.0   U   \n",
       "4  Papua New Guinea  POM  AYPY -9.443380  147.220001       146      10.0   U   \n",
       "\n",
       "                     TZ     TYPE       SOURCE  \n",
       "0  Pacific/Port_Moresby  airport  OurAirports  \n",
       "1  Pacific/Port_Moresby  airport  OurAirports  \n",
       "2  Pacific/Port_Moresby  airport  OurAirports  \n",
       "3  Pacific/Port_Moresby  airport  OurAirports  \n",
       "4  Pacific/Port_Moresby  airport  OurAirports  "
      ]
     },
     "execution_count": 4,
     "metadata": {},
     "output_type": "execute_result"
    }
   ],
   "source": [
    "airports.head()"
   ]
  },
  {
   "cell_type": "code",
   "execution_count": 5,
   "metadata": {},
   "outputs": [
    {
     "data": {
      "text/html": [
       "<div>\n",
       "<style scoped>\n",
       "    .dataframe tbody tr th:only-of-type {\n",
       "        vertical-align: middle;\n",
       "    }\n",
       "\n",
       "    .dataframe tbody tr th {\n",
       "        vertical-align: top;\n",
       "    }\n",
       "\n",
       "    .dataframe thead th {\n",
       "        text-align: right;\n",
       "    }\n",
       "</style>\n",
       "<table border=\"1\" class=\"dataframe\">\n",
       "  <thead>\n",
       "    <tr style=\"text-align: right;\">\n",
       "      <th></th>\n",
       "      <th>SOURCE</th>\n",
       "      <th>DEST</th>\n",
       "    </tr>\n",
       "  </thead>\n",
       "  <tbody>\n",
       "    <tr>\n",
       "      <td>3588</td>\n",
       "      <td>LEX</td>\n",
       "      <td>ATL</td>\n",
       "    </tr>\n",
       "    <tr>\n",
       "      <td>5763</td>\n",
       "      <td>LEX</td>\n",
       "      <td>CLT</td>\n",
       "    </tr>\n",
       "    <tr>\n",
       "      <td>5764</td>\n",
       "      <td>LEX</td>\n",
       "      <td>DFW</td>\n",
       "    </tr>\n",
       "    <tr>\n",
       "      <td>5765</td>\n",
       "      <td>LEX</td>\n",
       "      <td>ORD</td>\n",
       "    </tr>\n",
       "    <tr>\n",
       "      <td>9641</td>\n",
       "      <td>LEX</td>\n",
       "      <td>ATL</td>\n",
       "    </tr>\n",
       "    <tr>\n",
       "      <td>21095</td>\n",
       "      <td>LEX</td>\n",
       "      <td>ATL</td>\n",
       "    </tr>\n",
       "    <tr>\n",
       "      <td>21096</td>\n",
       "      <td>LEX</td>\n",
       "      <td>DCA</td>\n",
       "    </tr>\n",
       "    <tr>\n",
       "      <td>21097</td>\n",
       "      <td>LEX</td>\n",
       "      <td>DTW</td>\n",
       "    </tr>\n",
       "    <tr>\n",
       "      <td>21098</td>\n",
       "      <td>LEX</td>\n",
       "      <td>LGA</td>\n",
       "    </tr>\n",
       "    <tr>\n",
       "      <td>21099</td>\n",
       "      <td>LEX</td>\n",
       "      <td>MSP</td>\n",
       "    </tr>\n",
       "    <tr>\n",
       "      <td>29047</td>\n",
       "      <td>LEX</td>\n",
       "      <td>FLL</td>\n",
       "    </tr>\n",
       "    <tr>\n",
       "      <td>29048</td>\n",
       "      <td>LEX</td>\n",
       "      <td>PGD</td>\n",
       "    </tr>\n",
       "    <tr>\n",
       "      <td>29049</td>\n",
       "      <td>LEX</td>\n",
       "      <td>PIE</td>\n",
       "    </tr>\n",
       "    <tr>\n",
       "      <td>29050</td>\n",
       "      <td>LEX</td>\n",
       "      <td>SFB</td>\n",
       "    </tr>\n",
       "    <tr>\n",
       "      <td>36746</td>\n",
       "      <td>LEX</td>\n",
       "      <td>ATL</td>\n",
       "    </tr>\n",
       "    <tr>\n",
       "      <td>57029</td>\n",
       "      <td>LEX</td>\n",
       "      <td>IAH</td>\n",
       "    </tr>\n",
       "    <tr>\n",
       "      <td>57030</td>\n",
       "      <td>LEX</td>\n",
       "      <td>ORD</td>\n",
       "    </tr>\n",
       "    <tr>\n",
       "      <td>59544</td>\n",
       "      <td>LEX</td>\n",
       "      <td>CLT</td>\n",
       "    </tr>\n",
       "    <tr>\n",
       "      <td>59545</td>\n",
       "      <td>LEX</td>\n",
       "      <td>DFW</td>\n",
       "    </tr>\n",
       "    <tr>\n",
       "      <td>59546</td>\n",
       "      <td>LEX</td>\n",
       "      <td>ORD</td>\n",
       "    </tr>\n",
       "  </tbody>\n",
       "</table>\n",
       "</div>"
      ],
      "text/plain": [
       "      SOURCE DEST\n",
       "3588     LEX  ATL\n",
       "5763     LEX  CLT\n",
       "5764     LEX  DFW\n",
       "5765     LEX  ORD\n",
       "9641     LEX  ATL\n",
       "21095    LEX  ATL\n",
       "21096    LEX  DCA\n",
       "21097    LEX  DTW\n",
       "21098    LEX  LGA\n",
       "21099    LEX  MSP\n",
       "29047    LEX  FLL\n",
       "29048    LEX  PGD\n",
       "29049    LEX  PIE\n",
       "29050    LEX  SFB\n",
       "36746    LEX  ATL\n",
       "57029    LEX  IAH\n",
       "57030    LEX  ORD\n",
       "59544    LEX  CLT\n",
       "59545    LEX  DFW\n",
       "59546    LEX  ORD"
      ]
     },
     "execution_count": 5,
     "metadata": {},
     "output_type": "execute_result"
    }
   ],
   "source": [
    "lex_source = routes[routes.SOURCE == 'LEX'][['SOURCE','DEST']]\n",
    "lex_source"
   ]
  },
  {
   "cell_type": "code",
   "execution_count": 6,
   "metadata": {},
   "outputs": [
    {
     "data": {
      "text/html": [
       "<div>\n",
       "<style scoped>\n",
       "    .dataframe tbody tr th:only-of-type {\n",
       "        vertical-align: middle;\n",
       "    }\n",
       "\n",
       "    .dataframe tbody tr th {\n",
       "        vertical-align: top;\n",
       "    }\n",
       "\n",
       "    .dataframe thead th {\n",
       "        text-align: right;\n",
       "    }\n",
       "</style>\n",
       "<table border=\"1\" class=\"dataframe\">\n",
       "  <thead>\n",
       "    <tr style=\"text-align: right;\">\n",
       "      <th></th>\n",
       "      <th>SOURCE</th>\n",
       "      <th>DEST</th>\n",
       "    </tr>\n",
       "  </thead>\n",
       "  <tbody>\n",
       "    <tr>\n",
       "      <td>3588</td>\n",
       "      <td>LEX</td>\n",
       "      <td>ATL</td>\n",
       "    </tr>\n",
       "    <tr>\n",
       "      <td>5763</td>\n",
       "      <td>LEX</td>\n",
       "      <td>CLT</td>\n",
       "    </tr>\n",
       "    <tr>\n",
       "      <td>5764</td>\n",
       "      <td>LEX</td>\n",
       "      <td>DFW</td>\n",
       "    </tr>\n",
       "    <tr>\n",
       "      <td>5765</td>\n",
       "      <td>LEX</td>\n",
       "      <td>ORD</td>\n",
       "    </tr>\n",
       "    <tr>\n",
       "      <td>21096</td>\n",
       "      <td>LEX</td>\n",
       "      <td>DCA</td>\n",
       "    </tr>\n",
       "    <tr>\n",
       "      <td>21097</td>\n",
       "      <td>LEX</td>\n",
       "      <td>DTW</td>\n",
       "    </tr>\n",
       "    <tr>\n",
       "      <td>21098</td>\n",
       "      <td>LEX</td>\n",
       "      <td>LGA</td>\n",
       "    </tr>\n",
       "    <tr>\n",
       "      <td>21099</td>\n",
       "      <td>LEX</td>\n",
       "      <td>MSP</td>\n",
       "    </tr>\n",
       "    <tr>\n",
       "      <td>29047</td>\n",
       "      <td>LEX</td>\n",
       "      <td>FLL</td>\n",
       "    </tr>\n",
       "    <tr>\n",
       "      <td>29048</td>\n",
       "      <td>LEX</td>\n",
       "      <td>PGD</td>\n",
       "    </tr>\n",
       "    <tr>\n",
       "      <td>29049</td>\n",
       "      <td>LEX</td>\n",
       "      <td>PIE</td>\n",
       "    </tr>\n",
       "    <tr>\n",
       "      <td>29050</td>\n",
       "      <td>LEX</td>\n",
       "      <td>SFB</td>\n",
       "    </tr>\n",
       "    <tr>\n",
       "      <td>57029</td>\n",
       "      <td>LEX</td>\n",
       "      <td>IAH</td>\n",
       "    </tr>\n",
       "  </tbody>\n",
       "</table>\n",
       "</div>"
      ],
      "text/plain": [
       "      SOURCE DEST\n",
       "3588     LEX  ATL\n",
       "5763     LEX  CLT\n",
       "5764     LEX  DFW\n",
       "5765     LEX  ORD\n",
       "21096    LEX  DCA\n",
       "21097    LEX  DTW\n",
       "21098    LEX  LGA\n",
       "21099    LEX  MSP\n",
       "29047    LEX  FLL\n",
       "29048    LEX  PGD\n",
       "29049    LEX  PIE\n",
       "29050    LEX  SFB\n",
       "57029    LEX  IAH"
      ]
     },
     "execution_count": 6,
     "metadata": {},
     "output_type": "execute_result"
    }
   ],
   "source": [
    "lex_source = lex_source.drop_duplicates(['SOURCE', 'DEST'])\n",
    "lex_source"
   ]
  },
  {
   "cell_type": "code",
   "execution_count": 7,
   "metadata": {},
   "outputs": [
    {
     "data": {
      "text/html": [
       "<div>\n",
       "<style scoped>\n",
       "    .dataframe tbody tr th:only-of-type {\n",
       "        vertical-align: middle;\n",
       "    }\n",
       "\n",
       "    .dataframe tbody tr th {\n",
       "        vertical-align: top;\n",
       "    }\n",
       "\n",
       "    .dataframe thead th {\n",
       "        text-align: right;\n",
       "    }\n",
       "</style>\n",
       "<table border=\"1\" class=\"dataframe\">\n",
       "  <thead>\n",
       "    <tr style=\"text-align: right;\">\n",
       "      <th></th>\n",
       "      <th>source1</th>\n",
       "      <th>dest1</th>\n",
       "    </tr>\n",
       "  </thead>\n",
       "  <tbody>\n",
       "    <tr>\n",
       "      <td>3588</td>\n",
       "      <td>LEX</td>\n",
       "      <td>ATL</td>\n",
       "    </tr>\n",
       "    <tr>\n",
       "      <td>5763</td>\n",
       "      <td>LEX</td>\n",
       "      <td>CLT</td>\n",
       "    </tr>\n",
       "    <tr>\n",
       "      <td>5764</td>\n",
       "      <td>LEX</td>\n",
       "      <td>DFW</td>\n",
       "    </tr>\n",
       "    <tr>\n",
       "      <td>5765</td>\n",
       "      <td>LEX</td>\n",
       "      <td>ORD</td>\n",
       "    </tr>\n",
       "    <tr>\n",
       "      <td>21096</td>\n",
       "      <td>LEX</td>\n",
       "      <td>DCA</td>\n",
       "    </tr>\n",
       "    <tr>\n",
       "      <td>21097</td>\n",
       "      <td>LEX</td>\n",
       "      <td>DTW</td>\n",
       "    </tr>\n",
       "    <tr>\n",
       "      <td>21098</td>\n",
       "      <td>LEX</td>\n",
       "      <td>LGA</td>\n",
       "    </tr>\n",
       "    <tr>\n",
       "      <td>21099</td>\n",
       "      <td>LEX</td>\n",
       "      <td>MSP</td>\n",
       "    </tr>\n",
       "    <tr>\n",
       "      <td>29047</td>\n",
       "      <td>LEX</td>\n",
       "      <td>FLL</td>\n",
       "    </tr>\n",
       "    <tr>\n",
       "      <td>29048</td>\n",
       "      <td>LEX</td>\n",
       "      <td>PGD</td>\n",
       "    </tr>\n",
       "    <tr>\n",
       "      <td>29049</td>\n",
       "      <td>LEX</td>\n",
       "      <td>PIE</td>\n",
       "    </tr>\n",
       "    <tr>\n",
       "      <td>29050</td>\n",
       "      <td>LEX</td>\n",
       "      <td>SFB</td>\n",
       "    </tr>\n",
       "    <tr>\n",
       "      <td>57029</td>\n",
       "      <td>LEX</td>\n",
       "      <td>IAH</td>\n",
       "    </tr>\n",
       "  </tbody>\n",
       "</table>\n",
       "</div>"
      ],
      "text/plain": [
       "      source1 dest1\n",
       "3588      LEX   ATL\n",
       "5763      LEX   CLT\n",
       "5764      LEX   DFW\n",
       "5765      LEX   ORD\n",
       "21096     LEX   DCA\n",
       "21097     LEX   DTW\n",
       "21098     LEX   LGA\n",
       "21099     LEX   MSP\n",
       "29047     LEX   FLL\n",
       "29048     LEX   PGD\n",
       "29049     LEX   PIE\n",
       "29050     LEX   SFB\n",
       "57029     LEX   IAH"
      ]
     },
     "execution_count": 7,
     "metadata": {},
     "output_type": "execute_result"
    }
   ],
   "source": [
    "lex_source = lex_source.rename(columns = {'SOURCE':'source1', 'DEST':'dest1'})\n",
    "lex_source"
   ]
  },
  {
   "cell_type": "code",
   "execution_count": 8,
   "metadata": {},
   "outputs": [
    {
     "data": {
      "text/html": [
       "<div>\n",
       "<style scoped>\n",
       "    .dataframe tbody tr th:only-of-type {\n",
       "        vertical-align: middle;\n",
       "    }\n",
       "\n",
       "    .dataframe tbody tr th {\n",
       "        vertical-align: top;\n",
       "    }\n",
       "\n",
       "    .dataframe thead th {\n",
       "        text-align: right;\n",
       "    }\n",
       "</style>\n",
       "<table border=\"1\" class=\"dataframe\">\n",
       "  <thead>\n",
       "    <tr style=\"text-align: right;\">\n",
       "      <th></th>\n",
       "      <th>source1</th>\n",
       "      <th>dest1</th>\n",
       "      <th>SOURCE</th>\n",
       "      <th>DEST</th>\n",
       "    </tr>\n",
       "  </thead>\n",
       "  <tbody>\n",
       "    <tr>\n",
       "      <td>0</td>\n",
       "      <td>LEX</td>\n",
       "      <td>ATL</td>\n",
       "      <td>ATL</td>\n",
       "      <td>LWB</td>\n",
       "    </tr>\n",
       "    <tr>\n",
       "      <td>1</td>\n",
       "      <td>LEX</td>\n",
       "      <td>ATL</td>\n",
       "      <td>ATL</td>\n",
       "      <td>MCN</td>\n",
       "    </tr>\n",
       "    <tr>\n",
       "      <td>2</td>\n",
       "      <td>LEX</td>\n",
       "      <td>ATL</td>\n",
       "      <td>ATL</td>\n",
       "      <td>MEI</td>\n",
       "    </tr>\n",
       "    <tr>\n",
       "      <td>3</td>\n",
       "      <td>LEX</td>\n",
       "      <td>ATL</td>\n",
       "      <td>ATL</td>\n",
       "      <td>MSL</td>\n",
       "    </tr>\n",
       "    <tr>\n",
       "      <td>4</td>\n",
       "      <td>LEX</td>\n",
       "      <td>ATL</td>\n",
       "      <td>ATL</td>\n",
       "      <td>PIB</td>\n",
       "    </tr>\n",
       "    <tr>\n",
       "      <td>...</td>\n",
       "      <td>...</td>\n",
       "      <td>...</td>\n",
       "      <td>...</td>\n",
       "      <td>...</td>\n",
       "    </tr>\n",
       "    <tr>\n",
       "      <td>3553</td>\n",
       "      <td>LEX</td>\n",
       "      <td>IAH</td>\n",
       "      <td>IAH</td>\n",
       "      <td>PHX</td>\n",
       "    </tr>\n",
       "    <tr>\n",
       "      <td>3554</td>\n",
       "      <td>LEX</td>\n",
       "      <td>IAH</td>\n",
       "      <td>IAH</td>\n",
       "      <td>SAL</td>\n",
       "    </tr>\n",
       "    <tr>\n",
       "      <td>3555</td>\n",
       "      <td>LEX</td>\n",
       "      <td>IAH</td>\n",
       "      <td>IAH</td>\n",
       "      <td>ATL</td>\n",
       "    </tr>\n",
       "    <tr>\n",
       "      <td>3556</td>\n",
       "      <td>LEX</td>\n",
       "      <td>IAH</td>\n",
       "      <td>IAH</td>\n",
       "      <td>MTY</td>\n",
       "    </tr>\n",
       "    <tr>\n",
       "      <td>3557</td>\n",
       "      <td>LEX</td>\n",
       "      <td>IAH</td>\n",
       "      <td>IAH</td>\n",
       "      <td>ATL</td>\n",
       "    </tr>\n",
       "  </tbody>\n",
       "</table>\n",
       "<p>3558 rows × 4 columns</p>\n",
       "</div>"
      ],
      "text/plain": [
       "     source1 dest1 SOURCE DEST\n",
       "0        LEX   ATL    ATL  LWB\n",
       "1        LEX   ATL    ATL  MCN\n",
       "2        LEX   ATL    ATL  MEI\n",
       "3        LEX   ATL    ATL  MSL\n",
       "4        LEX   ATL    ATL  PIB\n",
       "...      ...   ...    ...  ...\n",
       "3553     LEX   IAH    IAH  PHX\n",
       "3554     LEX   IAH    IAH  SAL\n",
       "3555     LEX   IAH    IAH  ATL\n",
       "3556     LEX   IAH    IAH  MTY\n",
       "3557     LEX   IAH    IAH  ATL\n",
       "\n",
       "[3558 rows x 4 columns]"
      ]
     },
     "execution_count": 8,
     "metadata": {},
     "output_type": "execute_result"
    }
   ],
   "source": [
    "one_transfer = pd.merge(lex_source, routes, how='inner',left_on = 'dest1', right_on = \n",
    "                        'SOURCE')[['source1','dest1','SOURCE','DEST']]\n",
    "one_transfer"
   ]
  },
  {
   "cell_type": "code",
   "execution_count": 9,
   "metadata": {},
   "outputs": [],
   "source": [
    "one_transfer = one_transfer.drop_duplicates(['SOURCE','DEST'])\n",
    "one_transfer = one_transfer.rename(columns = {'DEST':'dest2'})\n",
    "one_transfer = one_transfer[['source1','dest1','dest2']]"
   ]
  },
  {
   "cell_type": "code",
   "execution_count": 10,
   "metadata": {},
   "outputs": [
    {
     "data": {
      "text/plain": [
       "['ATL',\n",
       " 'CLT',\n",
       " 'DFW',\n",
       " 'ORD',\n",
       " 'DCA',\n",
       " 'DTW',\n",
       " 'LGA',\n",
       " 'MSP',\n",
       " 'FLL',\n",
       " 'PGD',\n",
       " 'PIE',\n",
       " 'SFB',\n",
       " 'IAH',\n",
       " 'LEX']"
      ]
     },
     "execution_count": 10,
     "metadata": {},
     "output_type": "execute_result"
    }
   ],
   "source": [
    "visited_places = list(one_transfer['dest1'].unique())\n",
    "v = ['LEX']\n",
    "visited_places.extend(v)\n",
    "visited_places"
   ]
  },
  {
   "cell_type": "code",
   "execution_count": 11,
   "metadata": {},
   "outputs": [],
   "source": [
    "one_transfer = one_transfer.set_index('dest2', drop = False)\n",
    "one_transfer = one_transfer.drop(index = visited_places, errors = 'ignore')"
   ]
  },
  {
   "cell_type": "code",
   "execution_count": 12,
   "metadata": {},
   "outputs": [],
   "source": [
    "one_transfer = one_transfer.reset_index(drop = True)"
   ]
  },
  {
   "cell_type": "code",
   "execution_count": 13,
   "metadata": {
    "scrolled": true
   },
   "outputs": [
    {
     "data": {
      "text/html": [
       "<div>\n",
       "<style scoped>\n",
       "    .dataframe tbody tr th:only-of-type {\n",
       "        vertical-align: middle;\n",
       "    }\n",
       "\n",
       "    .dataframe tbody tr th {\n",
       "        vertical-align: top;\n",
       "    }\n",
       "\n",
       "    .dataframe thead th {\n",
       "        text-align: right;\n",
       "    }\n",
       "</style>\n",
       "<table border=\"1\" class=\"dataframe\">\n",
       "  <thead>\n",
       "    <tr style=\"text-align: right;\">\n",
       "      <th></th>\n",
       "      <th>source1</th>\n",
       "      <th>dest1</th>\n",
       "      <th>dest2</th>\n",
       "    </tr>\n",
       "  </thead>\n",
       "  <tbody>\n",
       "    <tr>\n",
       "      <td>0</td>\n",
       "      <td>LEX</td>\n",
       "      <td>ATL</td>\n",
       "      <td>LWB</td>\n",
       "    </tr>\n",
       "    <tr>\n",
       "      <td>1</td>\n",
       "      <td>LEX</td>\n",
       "      <td>ATL</td>\n",
       "      <td>MCN</td>\n",
       "    </tr>\n",
       "    <tr>\n",
       "      <td>2</td>\n",
       "      <td>LEX</td>\n",
       "      <td>ATL</td>\n",
       "      <td>MEI</td>\n",
       "    </tr>\n",
       "    <tr>\n",
       "      <td>3</td>\n",
       "      <td>LEX</td>\n",
       "      <td>ATL</td>\n",
       "      <td>MSL</td>\n",
       "    </tr>\n",
       "    <tr>\n",
       "      <td>4</td>\n",
       "      <td>LEX</td>\n",
       "      <td>ATL</td>\n",
       "      <td>PIB</td>\n",
       "    </tr>\n",
       "    <tr>\n",
       "      <td>...</td>\n",
       "      <td>...</td>\n",
       "      <td>...</td>\n",
       "      <td>...</td>\n",
       "    </tr>\n",
       "    <tr>\n",
       "      <td>1433</td>\n",
       "      <td>LEX</td>\n",
       "      <td>IAH</td>\n",
       "      <td>VSA</td>\n",
       "    </tr>\n",
       "    <tr>\n",
       "      <td>1434</td>\n",
       "      <td>LEX</td>\n",
       "      <td>IAH</td>\n",
       "      <td>XNA</td>\n",
       "    </tr>\n",
       "    <tr>\n",
       "      <td>1435</td>\n",
       "      <td>LEX</td>\n",
       "      <td>IAH</td>\n",
       "      <td>YVR</td>\n",
       "    </tr>\n",
       "    <tr>\n",
       "      <td>1436</td>\n",
       "      <td>LEX</td>\n",
       "      <td>IAH</td>\n",
       "      <td>ZIH</td>\n",
       "    </tr>\n",
       "    <tr>\n",
       "      <td>1437</td>\n",
       "      <td>LEX</td>\n",
       "      <td>IAH</td>\n",
       "      <td>ZLO</td>\n",
       "    </tr>\n",
       "  </tbody>\n",
       "</table>\n",
       "<p>1438 rows × 3 columns</p>\n",
       "</div>"
      ],
      "text/plain": [
       "     source1 dest1 dest2\n",
       "0        LEX   ATL   LWB\n",
       "1        LEX   ATL   MCN\n",
       "2        LEX   ATL   MEI\n",
       "3        LEX   ATL   MSL\n",
       "4        LEX   ATL   PIB\n",
       "...      ...   ...   ...\n",
       "1433     LEX   IAH   VSA\n",
       "1434     LEX   IAH   XNA\n",
       "1435     LEX   IAH   YVR\n",
       "1436     LEX   IAH   ZIH\n",
       "1437     LEX   IAH   ZLO\n",
       "\n",
       "[1438 rows x 3 columns]"
      ]
     },
     "execution_count": 13,
     "metadata": {},
     "output_type": "execute_result"
    }
   ],
   "source": [
    "one_transfer"
   ]
  },
  {
   "cell_type": "code",
   "execution_count": null,
   "metadata": {},
   "outputs": [],
   "source": [
    "pd.merge(one_transfer, airports,how = 'inner', left_on = 'dest2')"
   ]
  },
  {
   "cell_type": "code",
   "execution_count": 14,
   "metadata": {},
   "outputs": [
    {
     "data": {
      "text/html": [
       "<div>\n",
       "<style scoped>\n",
       "    .dataframe tbody tr th:only-of-type {\n",
       "        vertical-align: middle;\n",
       "    }\n",
       "\n",
       "    .dataframe tbody tr th {\n",
       "        vertical-align: top;\n",
       "    }\n",
       "\n",
       "    .dataframe thead th {\n",
       "        text-align: right;\n",
       "    }\n",
       "</style>\n",
       "<table border=\"1\" class=\"dataframe\">\n",
       "  <thead>\n",
       "    <tr style=\"text-align: right;\">\n",
       "      <th></th>\n",
       "      <th>source1</th>\n",
       "      <th>dest1</th>\n",
       "      <th>dest2</th>\n",
       "      <th>SOURCE</th>\n",
       "      <th>DEST</th>\n",
       "    </tr>\n",
       "  </thead>\n",
       "  <tbody>\n",
       "    <tr>\n",
       "      <td>0</td>\n",
       "      <td>LEX</td>\n",
       "      <td>ATL</td>\n",
       "      <td>LWB</td>\n",
       "      <td>LWB</td>\n",
       "      <td>ATL</td>\n",
       "    </tr>\n",
       "    <tr>\n",
       "      <td>1</td>\n",
       "      <td>LEX</td>\n",
       "      <td>ATL</td>\n",
       "      <td>LWB</td>\n",
       "      <td>LWB</td>\n",
       "      <td>IAD</td>\n",
       "    </tr>\n",
       "    <tr>\n",
       "      <td>2</td>\n",
       "      <td>LEX</td>\n",
       "      <td>ATL</td>\n",
       "      <td>MCN</td>\n",
       "      <td>MCN</td>\n",
       "      <td>ATL</td>\n",
       "    </tr>\n",
       "    <tr>\n",
       "      <td>3</td>\n",
       "      <td>LEX</td>\n",
       "      <td>ATL</td>\n",
       "      <td>MCN</td>\n",
       "      <td>MCN</td>\n",
       "      <td>MCO</td>\n",
       "    </tr>\n",
       "    <tr>\n",
       "      <td>4</td>\n",
       "      <td>LEX</td>\n",
       "      <td>ATL</td>\n",
       "      <td>MEI</td>\n",
       "      <td>MEI</td>\n",
       "      <td>ATL</td>\n",
       "    </tr>\n",
       "    <tr>\n",
       "      <td>...</td>\n",
       "      <td>...</td>\n",
       "      <td>...</td>\n",
       "      <td>...</td>\n",
       "      <td>...</td>\n",
       "      <td>...</td>\n",
       "    </tr>\n",
       "    <tr>\n",
       "      <td>119442</td>\n",
       "      <td>LEX</td>\n",
       "      <td>IAH</td>\n",
       "      <td>ZLO</td>\n",
       "      <td>ZLO</td>\n",
       "      <td>MEX</td>\n",
       "    </tr>\n",
       "    <tr>\n",
       "      <td>119443</td>\n",
       "      <td>LEX</td>\n",
       "      <td>IAH</td>\n",
       "      <td>ZLO</td>\n",
       "      <td>ZLO</td>\n",
       "      <td>LAX</td>\n",
       "    </tr>\n",
       "    <tr>\n",
       "      <td>119444</td>\n",
       "      <td>LEX</td>\n",
       "      <td>IAH</td>\n",
       "      <td>ZLO</td>\n",
       "      <td>ZLO</td>\n",
       "      <td>IAH</td>\n",
       "    </tr>\n",
       "    <tr>\n",
       "      <td>119445</td>\n",
       "      <td>LEX</td>\n",
       "      <td>IAH</td>\n",
       "      <td>ZLO</td>\n",
       "      <td>ZLO</td>\n",
       "      <td>MEX</td>\n",
       "    </tr>\n",
       "    <tr>\n",
       "      <td>119446</td>\n",
       "      <td>LEX</td>\n",
       "      <td>IAH</td>\n",
       "      <td>ZLO</td>\n",
       "      <td>ZLO</td>\n",
       "      <td>TIJ</td>\n",
       "    </tr>\n",
       "  </tbody>\n",
       "</table>\n",
       "<p>119447 rows × 5 columns</p>\n",
       "</div>"
      ],
      "text/plain": [
       "       source1 dest1 dest2 SOURCE DEST\n",
       "0          LEX   ATL   LWB    LWB  ATL\n",
       "1          LEX   ATL   LWB    LWB  IAD\n",
       "2          LEX   ATL   MCN    MCN  ATL\n",
       "3          LEX   ATL   MCN    MCN  MCO\n",
       "4          LEX   ATL   MEI    MEI  ATL\n",
       "...        ...   ...   ...    ...  ...\n",
       "119442     LEX   IAH   ZLO    ZLO  MEX\n",
       "119443     LEX   IAH   ZLO    ZLO  LAX\n",
       "119444     LEX   IAH   ZLO    ZLO  IAH\n",
       "119445     LEX   IAH   ZLO    ZLO  MEX\n",
       "119446     LEX   IAH   ZLO    ZLO  TIJ\n",
       "\n",
       "[119447 rows x 5 columns]"
      ]
     },
     "execution_count": 14,
     "metadata": {},
     "output_type": "execute_result"
    }
   ],
   "source": [
    "two_transfers = pd.merge(one_transfer, routes, how='inner', left_on = 'dest2', right_on = 'SOURCE')[['source1','dest1',\n",
    "                                                                                                     'dest2','SOURCE','DEST']]\n",
    "two_transfers"
   ]
  },
  {
   "cell_type": "code",
   "execution_count": 15,
   "metadata": {},
   "outputs": [],
   "source": [
    "two_transfers = two_transfers.drop_duplicates(['SOURCE','DEST'])"
   ]
  },
  {
   "cell_type": "code",
   "execution_count": 16,
   "metadata": {},
   "outputs": [],
   "source": [
    "two_transfers = two_transfers[['source1','dest1','dest2','DEST']]"
   ]
  },
  {
   "cell_type": "code",
   "execution_count": 17,
   "metadata": {},
   "outputs": [],
   "source": [
    "two_transfers = two_transfers.rename(columns= {'DEST': 'dest3'})"
   ]
  },
  {
   "cell_type": "code",
   "execution_count": 18,
   "metadata": {},
   "outputs": [
    {
     "data": {
      "text/plain": [
       "387"
      ]
     },
     "execution_count": 18,
     "metadata": {},
     "output_type": "execute_result"
    }
   ],
   "source": [
    "visited_cities = list(two_transfers.dest2.unique())\n",
    "len(visited_cities)"
   ]
  },
  {
   "cell_type": "code",
   "execution_count": 19,
   "metadata": {},
   "outputs": [
    {
     "data": {
      "text/plain": [
       "401"
      ]
     },
     "execution_count": 19,
     "metadata": {},
     "output_type": "execute_result"
    }
   ],
   "source": [
    "visited_cities.extend(visited_places)\n",
    "len(visited_cities)"
   ]
  },
  {
   "cell_type": "code",
   "execution_count": 20,
   "metadata": {},
   "outputs": [
    {
     "data": {
      "text/html": [
       "<div>\n",
       "<style scoped>\n",
       "    .dataframe tbody tr th:only-of-type {\n",
       "        vertical-align: middle;\n",
       "    }\n",
       "\n",
       "    .dataframe tbody tr th {\n",
       "        vertical-align: top;\n",
       "    }\n",
       "\n",
       "    .dataframe thead th {\n",
       "        text-align: right;\n",
       "    }\n",
       "</style>\n",
       "<table border=\"1\" class=\"dataframe\">\n",
       "  <thead>\n",
       "    <tr style=\"text-align: right;\">\n",
       "      <th></th>\n",
       "      <th>source1</th>\n",
       "      <th>dest1</th>\n",
       "      <th>dest2</th>\n",
       "      <th>dest3</th>\n",
       "    </tr>\n",
       "  </thead>\n",
       "  <tbody>\n",
       "    <tr>\n",
       "      <td>0</td>\n",
       "      <td>LEX</td>\n",
       "      <td>ATL</td>\n",
       "      <td>TUP</td>\n",
       "      <td>GLH</td>\n",
       "    </tr>\n",
       "    <tr>\n",
       "      <td>1</td>\n",
       "      <td>LEX</td>\n",
       "      <td>ATL</td>\n",
       "      <td>CID</td>\n",
       "      <td>AZA</td>\n",
       "    </tr>\n",
       "    <tr>\n",
       "      <td>2</td>\n",
       "      <td>LEX</td>\n",
       "      <td>ATL</td>\n",
       "      <td>CVG</td>\n",
       "      <td>MMU</td>\n",
       "    </tr>\n",
       "    <tr>\n",
       "      <td>3</td>\n",
       "      <td>LEX</td>\n",
       "      <td>ATL</td>\n",
       "      <td>FWA</td>\n",
       "      <td>AZA</td>\n",
       "    </tr>\n",
       "    <tr>\n",
       "      <td>4</td>\n",
       "      <td>LEX</td>\n",
       "      <td>ATL</td>\n",
       "      <td>LHR</td>\n",
       "      <td>CGN</td>\n",
       "    </tr>\n",
       "    <tr>\n",
       "      <td>...</td>\n",
       "      <td>...</td>\n",
       "      <td>...</td>\n",
       "      <td>...</td>\n",
       "      <td>...</td>\n",
       "    </tr>\n",
       "    <tr>\n",
       "      <td>4761</td>\n",
       "      <td>LEX</td>\n",
       "      <td>IAH</td>\n",
       "      <td>OAX</td>\n",
       "      <td>TIJ</td>\n",
       "    </tr>\n",
       "    <tr>\n",
       "      <td>4762</td>\n",
       "      <td>LEX</td>\n",
       "      <td>IAH</td>\n",
       "      <td>VER</td>\n",
       "      <td>REX</td>\n",
       "    </tr>\n",
       "    <tr>\n",
       "      <td>4763</td>\n",
       "      <td>LEX</td>\n",
       "      <td>IAH</td>\n",
       "      <td>VER</td>\n",
       "      <td>TIJ</td>\n",
       "    </tr>\n",
       "    <tr>\n",
       "      <td>4764</td>\n",
       "      <td>LEX</td>\n",
       "      <td>IAH</td>\n",
       "      <td>VSA</td>\n",
       "      <td>PAZ</td>\n",
       "    </tr>\n",
       "    <tr>\n",
       "      <td>4765</td>\n",
       "      <td>LEX</td>\n",
       "      <td>IAH</td>\n",
       "      <td>ZLO</td>\n",
       "      <td>TIJ</td>\n",
       "    </tr>\n",
       "  </tbody>\n",
       "</table>\n",
       "<p>4766 rows × 4 columns</p>\n",
       "</div>"
      ],
      "text/plain": [
       "     source1 dest1 dest2 dest3\n",
       "0        LEX   ATL   TUP   GLH\n",
       "1        LEX   ATL   CID   AZA\n",
       "2        LEX   ATL   CVG   MMU\n",
       "3        LEX   ATL   FWA   AZA\n",
       "4        LEX   ATL   LHR   CGN\n",
       "...      ...   ...   ...   ...\n",
       "4761     LEX   IAH   OAX   TIJ\n",
       "4762     LEX   IAH   VER   REX\n",
       "4763     LEX   IAH   VER   TIJ\n",
       "4764     LEX   IAH   VSA   PAZ\n",
       "4765     LEX   IAH   ZLO   TIJ\n",
       "\n",
       "[4766 rows x 4 columns]"
      ]
     },
     "execution_count": 20,
     "metadata": {},
     "output_type": "execute_result"
    }
   ],
   "source": [
    "two_transfers = two_transfers.set_index('dest3', drop = False)\n",
    "two_transfers = two_transfers.drop(index = visited_cities, errors = 'ignore')\n",
    "two_transfers = two_transfers.reset_index(drop = True)\n",
    "two_transfers"
   ]
  },
  {
   "cell_type": "code",
   "execution_count": 27,
   "metadata": {},
   "outputs": [
    {
     "data": {
      "text/html": [
       "<div style=\"width:100%;\"><div style=\"position:relative;width:100%;height:0;padding-bottom:60%;\"><iframe src=\"data:text/html;charset=utf-8;base64,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\" style=\"position:absolute;width:100%;height:100%;left:0;top:0;border:none !important;\" allowfullscreen webkitallowfullscreen mozallowfullscreen></iframe></div></div>"
      ],
      "text/plain": [
       "<folium.folium.Map at 0x12405ea10>"
      ]
     },
     "execution_count": 27,
     "metadata": {},
     "output_type": "execute_result"
    }
   ],
   "source": [
    "import folium\n",
    "mapping = folium.Map(location=[38.034,-84.500], tiles='Stamen Toner', zoom_start=4.2)\n",
    "mapping"
   ]
  },
  {
   "cell_type": "code",
   "execution_count": null,
   "metadata": {},
   "outputs": [],
   "source": [
    "airport_set = set()\n",
    "route_set = set()\n",
    "for name,row in one_transfer.iterrows():\n",
    "    if row['source1'] not in airport_set:\n",
    "        "
   ]
  },
  {
   "cell_type": "code",
   "execution_count": null,
   "metadata": {},
   "outputs": [],
   "source": []
  },
  {
   "cell_type": "code",
   "execution_count": null,
   "metadata": {},
   "outputs": [],
   "source": []
  },
  {
   "cell_type": "code",
   "execution_count": null,
   "metadata": {},
   "outputs": [],
   "source": [
    "\n",
    "# Make sure we don't add duplicates, especially for the origins\n",
    "for name, row in lex_routes.iterrows():\n",
    "    \n",
    "    if row['source'] not in airport_set: \n",
    "        popup_string = row['city_source'] + ' (' + row['source'] + ')'\n",
    "        marker = folium.CircleMarker([row[\"latitude_source\"], row[\"longitude_source\"]], \n",
    "                                     color='DarkCyan',\n",
    "                                     fill_color='DarkCyan', \n",
    "                                     radius=5, popup=popup_string)\n",
    "        marker.add_to(lex_air)\n",
    "        airport_set.add(row['source'])\n",
    "        \n",
    "    if row['dest'] not in airport_set: \n",
    "        popup_string = row['city_dest'] + '(' + row['dest'] + ')'\n",
    "        marker = folium.CircleMarker([row[\"latitude_dest\"], row[\"longitude_dest\"]], \n",
    "                                     color='MidnightBlue',\n",
    "                                     fill_color='MidnightBlue', \n",
    "                                     radius=5, popup=popup_string)\n",
    "        marker.add_to(lex_air)\n",
    "        airport_set.add(row['dest'])\n",
    "    \n",
    "    # the parentheses in the indicate that we are adding a tuple to the route_set\n",
    "    if (row['source'],row['dest']) not in route_set:            \n",
    "        popup_string = row['source'] + '-' + row['dest']        \n",
    "        line = folium.PolyLine([(row[\"latitude_source\"], row[\"longitude_source\"]), \n",
    "                                (row[\"latitude_dest\"], row[\"longitude_dest\"])], \n",
    "                                weight=2, \n",
    "                                popup=popup_string)\n",
    "        line.add_to(lex_air)\n",
    "        route_set.add((row['source'],row['dest']))"
   ]
  },
  {
   "cell_type": "code",
   "execution_count": null,
   "metadata": {},
   "outputs": [],
   "source": []
  },
  {
   "cell_type": "code",
   "execution_count": null,
   "metadata": {},
   "outputs": [],
   "source": []
  },
  {
   "cell_type": "code",
   "execution_count": null,
   "metadata": {},
   "outputs": [],
   "source": []
  },
  {
   "cell_type": "markdown",
   "metadata": {},
   "source": [
    "### Number of airports on 1 transfer"
   ]
  },
  {
   "cell_type": "markdown",
   "metadata": {},
   "source": [
    "make a set. it won't contain duplicates\n",
    "pd.apply()\n",
    "lambda functions."
   ]
  }
 ],
 "metadata": {
  "anaconda-cloud": {},
  "kernelspec": {
   "display_name": "Python 3",
   "language": "python",
   "name": "python3"
  },
  "language_info": {
   "codemirror_mode": {
    "name": "ipython",
    "version": 3
   },
   "file_extension": ".py",
   "mimetype": "text/x-python",
   "name": "python",
   "nbconvert_exporter": "python",
   "pygments_lexer": "ipython3",
   "version": "3.7.4"
  },
  "toc": {
   "base_numbering": 1,
   "nav_menu": {},
   "number_sections": true,
   "sideBar": true,
   "skip_h1_title": false,
   "title_cell": "Table of Contents",
   "title_sidebar": "Contents",
   "toc_cell": false,
   "toc_position": {},
   "toc_section_display": true,
   "toc_window_display": false
  },
  "varInspector": {
   "cols": {
    "lenName": 16,
    "lenType": 16,
    "lenVar": 40
   },
   "kernels_config": {
    "python": {
     "delete_cmd_postfix": "",
     "delete_cmd_prefix": "del ",
     "library": "var_list.py",
     "varRefreshCmd": "print(var_dic_list())"
    },
    "r": {
     "delete_cmd_postfix": ") ",
     "delete_cmd_prefix": "rm(",
     "library": "var_list.r",
     "varRefreshCmd": "cat(var_dic_list()) "
    }
   },
   "types_to_exclude": [
    "module",
    "function",
    "builtin_function_or_method",
    "instance",
    "_Feature"
   ],
   "window_display": false
  }
 },
 "nbformat": 4,
 "nbformat_minor": 1
}
