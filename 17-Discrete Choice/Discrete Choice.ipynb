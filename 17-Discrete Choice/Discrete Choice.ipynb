{
 "cells": [
  {
   "cell_type": "markdown",
   "metadata": {
    "collapsed": true
   },
   "source": [
    "# Discrete Choice Modeling\n",
    "\n",
    "For more detailed information, please see: \n",
    "\n",
    "Koppelman & Bhat (2006) A Self-Instructing Course in Mode Choice Modeling\n",
    "http://www.caee.utexas.edu/prof/bhat/COURSES/LM_Draft_060131Final-060630.pdf \n",
    "\n",
    "\n",
    "### Motivation\n",
    "\n",
    "Not everything has a continous dependent variable.  Some things are discrete.  Coke or Pepsi?  Soda or pop?  Let's think of a few...\n",
    "\n",
    "Discrete choice models give us a way to model this.  \n",
    "\n",
    "\n",
    "### Elements\n",
    "\n",
    "In this framework, there are several elements to the choice decision process: \n",
    "\n",
    "- The decision maker\n",
    "- The alternatives\n",
    "- Attributes of the alternatives\n",
    "- The decision rule\n",
    "\n",
    "\n",
    "### Structure and Assumptions\n",
    "\n",
    "We will use a multi-nomial logit (MNL) model.  It takes the form: \n",
    "\n",
    "$Pr(i) = \\frac{e^{U_i}}{\\sum_{j=1}^{J} e^{U_j}}$\n",
    "\n",
    "where $U_i = \\beta X_i + \\epsilon_i$ and $\\epsilon_i$ follows a Gumbel distribution. \n",
    "\n",
    "This equation defines the decision rule.  A bit of time to work it through...\n",
    "\n",
    "### Libraries\n",
    "\n",
    "Will be using [Statsmodels](http://statsmodels.sourceforge.net/).  Start with: \n",
    "\n",
    "    conda install statsmodels\n",
    "    \n",
    "    "
   ]
  },
  {
   "cell_type": "markdown",
   "metadata": {},
   "source": [
    "### Today's objective\n",
    "\n",
    "Today, we want to predict vehicle ownership.  \n",
    "\n",
    "We'll be using the PUMS data again.  This time we'll use the household records instead of the person records, and households will be our decision-making unit.  You can find the data here: \n",
    "\n",
    "https://www.census.gov/programs-surveys/acs/data/pums.html\n",
    "\n",
    "Please download the Kentucky 1-year household data.  "
   ]
  },
  {
   "cell_type": "code",
   "execution_count": 1,
   "metadata": {
    "ExecuteTime": {
     "end_time": "2020-04-02T13:37:43.754039Z",
     "start_time": "2020-04-02T13:37:42.243966Z"
    }
   },
   "outputs": [],
   "source": [
    "import pandas as pd\n",
    "import seaborn as sns\n",
    "import numpy as np\n",
    "import statsmodels.formula.api as smf\n",
    "\n",
    "# this allows plots to appear directly in the notebook\n",
    "%matplotlib inline"
   ]
  },
  {
   "cell_type": "code",
   "execution_count": 15,
   "metadata": {
    "ExecuteTime": {
     "end_time": "2020-04-02T13:59:45.378833Z",
     "start_time": "2020-04-02T13:59:44.995855Z"
    }
   },
   "outputs": [
    {
     "data": {
      "text/html": [
       "<div>\n",
       "<style scoped>\n",
       "    .dataframe tbody tr th:only-of-type {\n",
       "        vertical-align: middle;\n",
       "    }\n",
       "\n",
       "    .dataframe tbody tr th {\n",
       "        vertical-align: top;\n",
       "    }\n",
       "\n",
       "    .dataframe thead th {\n",
       "        text-align: right;\n",
       "    }\n",
       "</style>\n",
       "<table border=\"1\" class=\"dataframe\">\n",
       "  <thead>\n",
       "    <tr style=\"text-align: right;\">\n",
       "      <th></th>\n",
       "      <th>RT</th>\n",
       "      <th>SERIALNO</th>\n",
       "      <th>DIVISION</th>\n",
       "      <th>PUMA</th>\n",
       "      <th>REGION</th>\n",
       "      <th>ST</th>\n",
       "      <th>ADJHSG</th>\n",
       "      <th>ADJINC</th>\n",
       "      <th>WGTP</th>\n",
       "      <th>NP</th>\n",
       "      <th>...</th>\n",
       "      <th>WGTP71</th>\n",
       "      <th>WGTP72</th>\n",
       "      <th>WGTP73</th>\n",
       "      <th>WGTP74</th>\n",
       "      <th>WGTP75</th>\n",
       "      <th>WGTP76</th>\n",
       "      <th>WGTP77</th>\n",
       "      <th>WGTP78</th>\n",
       "      <th>WGTP79</th>\n",
       "      <th>WGTP80</th>\n",
       "    </tr>\n",
       "  </thead>\n",
       "  <tbody>\n",
       "    <tr>\n",
       "      <th>9</th>\n",
       "      <td>H</td>\n",
       "      <td>2017000000438</td>\n",
       "      <td>6</td>\n",
       "      <td>1902</td>\n",
       "      <td>3</td>\n",
       "      <td>21</td>\n",
       "      <td>1000000</td>\n",
       "      <td>1011189</td>\n",
       "      <td>135</td>\n",
       "      <td>2</td>\n",
       "      <td>...</td>\n",
       "      <td>42</td>\n",
       "      <td>250</td>\n",
       "      <td>137</td>\n",
       "      <td>212</td>\n",
       "      <td>246</td>\n",
       "      <td>147</td>\n",
       "      <td>147</td>\n",
       "      <td>141</td>\n",
       "      <td>139</td>\n",
       "      <td>40</td>\n",
       "    </tr>\n",
       "    <tr>\n",
       "      <th>41</th>\n",
       "      <td>H</td>\n",
       "      <td>2017000002297</td>\n",
       "      <td>6</td>\n",
       "      <td>1902</td>\n",
       "      <td>3</td>\n",
       "      <td>21</td>\n",
       "      <td>1000000</td>\n",
       "      <td>1011189</td>\n",
       "      <td>116</td>\n",
       "      <td>1</td>\n",
       "      <td>...</td>\n",
       "      <td>131</td>\n",
       "      <td>184</td>\n",
       "      <td>34</td>\n",
       "      <td>116</td>\n",
       "      <td>137</td>\n",
       "      <td>119</td>\n",
       "      <td>201</td>\n",
       "      <td>36</td>\n",
       "      <td>109</td>\n",
       "      <td>182</td>\n",
       "    </tr>\n",
       "    <tr>\n",
       "      <th>53</th>\n",
       "      <td>H</td>\n",
       "      <td>2017000003296</td>\n",
       "      <td>6</td>\n",
       "      <td>1901</td>\n",
       "      <td>3</td>\n",
       "      <td>21</td>\n",
       "      <td>1000000</td>\n",
       "      <td>1011189</td>\n",
       "      <td>84</td>\n",
       "      <td>2</td>\n",
       "      <td>...</td>\n",
       "      <td>94</td>\n",
       "      <td>29</td>\n",
       "      <td>78</td>\n",
       "      <td>138</td>\n",
       "      <td>83</td>\n",
       "      <td>160</td>\n",
       "      <td>145</td>\n",
       "      <td>23</td>\n",
       "      <td>86</td>\n",
       "      <td>88</td>\n",
       "    </tr>\n",
       "    <tr>\n",
       "      <th>58</th>\n",
       "      <td>H</td>\n",
       "      <td>2017000003499</td>\n",
       "      <td>6</td>\n",
       "      <td>1901</td>\n",
       "      <td>3</td>\n",
       "      <td>21</td>\n",
       "      <td>1000000</td>\n",
       "      <td>1011189</td>\n",
       "      <td>138</td>\n",
       "      <td>4</td>\n",
       "      <td>...</td>\n",
       "      <td>217</td>\n",
       "      <td>45</td>\n",
       "      <td>126</td>\n",
       "      <td>45</td>\n",
       "      <td>43</td>\n",
       "      <td>128</td>\n",
       "      <td>43</td>\n",
       "      <td>216</td>\n",
       "      <td>121</td>\n",
       "      <td>141</td>\n",
       "    </tr>\n",
       "    <tr>\n",
       "      <th>90</th>\n",
       "      <td>H</td>\n",
       "      <td>2017000005959</td>\n",
       "      <td>6</td>\n",
       "      <td>1902</td>\n",
       "      <td>3</td>\n",
       "      <td>21</td>\n",
       "      <td>1000000</td>\n",
       "      <td>1011189</td>\n",
       "      <td>118</td>\n",
       "      <td>4</td>\n",
       "      <td>...</td>\n",
       "      <td>41</td>\n",
       "      <td>129</td>\n",
       "      <td>105</td>\n",
       "      <td>32</td>\n",
       "      <td>104</td>\n",
       "      <td>116</td>\n",
       "      <td>39</td>\n",
       "      <td>139</td>\n",
       "      <td>123</td>\n",
       "      <td>119</td>\n",
       "    </tr>\n",
       "  </tbody>\n",
       "</table>\n",
       "<p>5 rows × 230 columns</p>\n",
       "</div>"
      ],
      "text/plain": [
       "   RT       SERIALNO  DIVISION  PUMA  REGION  ST   ADJHSG   ADJINC  WGTP  NP  \\\n",
       "9   H  2017000000438         6  1902       3  21  1000000  1011189   135   2   \n",
       "41  H  2017000002297         6  1902       3  21  1000000  1011189   116   1   \n",
       "53  H  2017000003296         6  1901       3  21  1000000  1011189    84   2   \n",
       "58  H  2017000003499         6  1901       3  21  1000000  1011189   138   4   \n",
       "90  H  2017000005959         6  1902       3  21  1000000  1011189   118   4   \n",
       "\n",
       "    ...  WGTP71  WGTP72  WGTP73  WGTP74  WGTP75  WGTP76  WGTP77  WGTP78  \\\n",
       "9   ...      42     250     137     212     246     147     147     141   \n",
       "41  ...     131     184      34     116     137     119     201      36   \n",
       "53  ...      94      29      78     138      83     160     145      23   \n",
       "58  ...     217      45     126      45      43     128      43     216   \n",
       "90  ...      41     129     105      32     104     116      39     139   \n",
       "\n",
       "    WGTP79  WGTP80  \n",
       "9      139      40  \n",
       "41     109     182  \n",
       "53      86      88  \n",
       "58     121     141  \n",
       "90     123     119  \n",
       "\n",
       "[5 rows x 230 columns]"
      ]
     },
     "execution_count": 15,
     "metadata": {},
     "output_type": "execute_result"
    }
   ],
   "source": [
    "# get the data\n",
    "df = pd.read_csv('data/psam_h21.csv')\n",
    "df = df[(df['PUMA'] == 1901) | (df['PUMA'] == 1902)]\n",
    "df.head()"
   ]
  },
  {
   "cell_type": "code",
   "execution_count": 16,
   "metadata": {
    "ExecuteTime": {
     "end_time": "2020-04-02T14:01:19.662309Z",
     "start_time": "2020-04-02T14:01:19.649344Z"
    }
   },
   "outputs": [
    {
     "data": {
      "text/plain": [
       "1253"
      ]
     },
     "execution_count": 16,
     "metadata": {},
     "output_type": "execute_result"
    }
   ],
   "source": [
    "# keep only occupied housing units\n",
    "'''\n",
    "NP 2\n",
    "Number of person records following this housing record\n",
    "00 .Vacant unit\n",
    "01 .One person record (one person in household or any person in\n",
    ".group quarters)\n",
    "02..20 .Number of person records (number of persons in household)\n",
    "\n",
    "TYPE 1\n",
    "Type of unit\n",
    "1 .Housing unit\n",
    "2 .Institutional group quarters\n",
    "3 .Noninstitutional group quarters\n",
    "'''\n",
    "\n",
    "df = df[df['TYPE']==1]\n",
    "df = df[df['NP']>0]\n",
    "len(df)"
   ]
  },
  {
   "cell_type": "markdown",
   "metadata": {},
   "source": [
    "### Look at the data\n",
    "\n",
    "It is often a good idea to look at the data we want to model, and see how it relates to some variables we expect to be important.  We can do this using seaborn, which we learned about a few weeks ago.  "
   ]
  },
  {
   "cell_type": "code",
   "execution_count": 17,
   "metadata": {
    "ExecuteTime": {
     "end_time": "2020-04-02T14:01:40.156385Z",
     "start_time": "2020-04-02T14:01:39.946944Z"
    }
   },
   "outputs": [
    {
     "data": {
      "text/plain": [
       "<matplotlib.axes._subplots.AxesSubplot at 0x2b0e0d0cc88>"
      ]
     },
     "execution_count": 17,
     "metadata": {},
     "output_type": "execute_result"
    },
    {
     "data": {
      "image/png": "[encoded data removed]",
      "text/plain": [
       "<Figure size 432x288 with 1 Axes>"
      ]
     },
     "metadata": {
      "needs_background": "light"
     },
     "output_type": "display_data"
    }
   ],
   "source": [
    "'''\n",
    "10\n",
    "VEH 1\n",
    "Vehicles (1 ton or less) available\n",
    "b .N/A (GQ/vacant)\n",
    "0 .No vehicles\n",
    "1 .1 vehicle\n",
    "2 .2 vehicles\n",
    "3 .3 vehicles\n",
    "4 .4 vehicles\n",
    "5 .5 vehicles\n",
    "6 .6 or more vehicles\n",
    "'''\n",
    "\n",
    "sns.distplot(df['VEH'])"
   ]
  },
  {
   "cell_type": "code",
   "execution_count": 18,
   "metadata": {
    "ExecuteTime": {
     "end_time": "2020-04-02T14:01:48.769114Z",
     "start_time": "2020-04-02T14:01:48.626460Z"
    }
   },
   "outputs": [
    {
     "data": {
      "text/plain": [
       "<matplotlib.axes._subplots.AxesSubplot at 0x2b0e09f5b00>"
      ]
     },
     "execution_count": 18,
     "metadata": {},
     "output_type": "execute_result"
    },
    {
     "data": {
      "image/png": "[encoded data removed]",
      "text/plain": [
       "<Figure size 432x288 with 1 Axes>"
      ]
     },
     "metadata": {
      "needs_background": "light"
     },
     "output_type": "display_data"
    }
   ],
   "source": [
    "# there aren't very many above 3, so group all of those\n",
    "df['VEH'] = df['VEH'].apply(lambda x : min(x, 3))\n",
    "df['VEH'] = df['VEH'].astype(int)\n",
    "\n",
    "sns.distplot(df['VEH'])"
   ]
  },
  {
   "cell_type": "markdown",
   "metadata": {},
   "source": [
    "### Estimating a model\n",
    "\n",
    "OK, that's fine, we can do plots, but we want some actual numbers.  For this, we want to estimate what the model coefficients are. "
   ]
  },
  {
   "cell_type": "code",
   "execution_count": 19,
   "metadata": {
    "ExecuteTime": {
     "end_time": "2020-04-02T14:01:56.065039Z",
     "start_time": "2020-04-02T14:01:55.986248Z"
    }
   },
   "outputs": [
    {
     "name": "stdout",
     "output_type": "stream",
     "text": [
      "Optimization terminated successfully.\n",
      "         Current function value: 1.221104\n",
      "         Iterations 6\n",
      "                          MNLogit Regression Results                          \n",
      "==============================================================================\n",
      "Dep. Variable:                    VEH   No. Observations:                 1253\n",
      "Model:                        MNLogit   Df Residuals:                     1250\n",
      "Method:                           MLE   Df Model:                            0\n",
      "Date:                Thu, 02 Apr 2020   Pseudo R-squ.:               5.363e-11\n",
      "Time:                        10:01:56   Log-Likelihood:                -1530.0\n",
      "converged:                       True   LL-Null:                       -1530.0\n",
      "Covariance Type:            nonrobust   LLR p-value:                       nan\n",
      "==============================================================================\n",
      "     VEH=1       coef    std err          z      P>|z|      [0.025      0.975]\n",
      "------------------------------------------------------------------------------\n",
      "Intercept      1.5413      0.117     13.122      0.000       1.311       1.771\n",
      "------------------------------------------------------------------------------\n",
      "     VEH=2       coef    std err          z      P>|z|      [0.025      0.975]\n",
      "------------------------------------------------------------------------------\n",
      "Intercept      1.8031      0.115     15.672      0.000       1.578       2.029\n",
      "------------------------------------------------------------------------------\n",
      "     VEH=3       coef    std err          z      P>|z|      [0.025      0.975]\n",
      "------------------------------------------------------------------------------\n",
      "Intercept      0.9163      0.126      7.265      0.000       0.669       1.164\n",
      "==============================================================================\n"
     ]
    }
   ],
   "source": [
    "# Here is the constants only model. \n",
    "mod = smf.mnlogit(formula='VEH ~ 1', data=df)\n",
    "res = mod.fit()\n",
    "print(res.summary())"
   ]
  },
  {
   "cell_type": "markdown",
   "metadata": {},
   "source": [
    "Notice a few things: \n",
    "\n",
    "1. Goodness of fit measures\n",
    "2. Separate coefficients for each alternative"
   ]
  },
  {
   "cell_type": "code",
   "execution_count": 7,
   "metadata": {
    "ExecuteTime": {
     "end_time": "2020-04-02T13:37:45.911187Z",
     "start_time": "2020-04-02T13:37:45.350682Z"
    }
   },
   "outputs": [
    {
     "name": "stdout",
     "output_type": "stream",
     "text": [
      "Optimization terminated successfully.\n",
      "         Current function value: 1.144302\n",
      "         Iterations 7\n",
      "                          MNLogit Regression Results                          \n",
      "==============================================================================\n",
      "Dep. Variable:                    VEH   No. Observations:                18104\n",
      "Model:                        MNLogit   Df Residuals:                    18098\n",
      "Method:                           MLE   Df Model:                            3\n",
      "Date:                Thu, 02 Apr 2020   Pseudo R-squ.:                 0.08805\n",
      "Time:                        09:37:45   Log-Likelihood:                -20716.\n",
      "converged:                       True   LL-Null:                       -22717.\n",
      "Covariance Type:            nonrobust   LLR p-value:                     0.000\n",
      "==============================================================================\n",
      "     VEH=1       coef    std err          z      P>|z|      [0.025      0.975]\n",
      "------------------------------------------------------------------------------\n",
      "Intercept      1.4446      0.073     19.677      0.000       1.301       1.588\n",
      "NP             0.0389      0.040      0.976      0.329      -0.039       0.117\n",
      "------------------------------------------------------------------------------\n",
      "     VEH=2       coef    std err          z      P>|z|      [0.025      0.975]\n",
      "------------------------------------------------------------------------------\n",
      "Intercept     -0.0171      0.074     -0.231      0.817      -0.162       0.127\n",
      "NP             0.8580      0.038     22.354      0.000       0.783       0.933\n",
      "------------------------------------------------------------------------------\n",
      "     VEH=3       coef    std err          z      P>|z|      [0.025      0.975]\n",
      "------------------------------------------------------------------------------\n",
      "Intercept     -1.2982      0.079    -16.387      0.000      -1.453      -1.143\n",
      "NP             1.1364      0.039     28.957      0.000       1.059       1.213\n",
      "==============================================================================\n"
     ]
    }
   ],
   "source": [
    "# That's fine, but we may try some more things.  Perhaps age matters. \n",
    "# More people -> more cars? \n",
    "\n",
    "mod = smf.mnlogit(formula='VEH ~ NP + 1', data=df)\n",
    "res = mod.fit()\n",
    "print(res.summary())"
   ]
  },
  {
   "cell_type": "markdown",
   "metadata": {},
   "source": [
    "We can apply this model"
   ]
  },
  {
   "cell_type": "markdown",
   "metadata": {},
   "source": [
    "### Categorical variables\n",
    "\n",
    "We may also want to include categorical variables.  We can include them by calculating a 'dummy' variable, which is 1 if the value is in a category, and zero otherwise.  "
   ]
  },
  {
   "cell_type": "code",
   "execution_count": 8,
   "metadata": {
    "ExecuteTime": {
     "end_time": "2020-04-02T13:37:45.956068Z",
     "start_time": "2020-04-02T13:37:45.913183Z"
    }
   },
   "outputs": [
    {
     "data": {
      "text/html": [
       "<div>\n",
       "<style scoped>\n",
       "    .dataframe tbody tr th:only-of-type {\n",
       "        vertical-align: middle;\n",
       "    }\n",
       "\n",
       "    .dataframe tbody tr th {\n",
       "        vertical-align: top;\n",
       "    }\n",
       "\n",
       "    .dataframe thead th {\n",
       "        text-align: right;\n",
       "    }\n",
       "</style>\n",
       "<table border=\"1\" class=\"dataframe\">\n",
       "  <thead>\n",
       "    <tr style=\"text-align: right;\">\n",
       "      <th></th>\n",
       "      <th>RT</th>\n",
       "      <th>SERIALNO</th>\n",
       "      <th>DIVISION</th>\n",
       "      <th>PUMA</th>\n",
       "      <th>REGION</th>\n",
       "      <th>ST</th>\n",
       "      <th>ADJHSG</th>\n",
       "      <th>ADJINC</th>\n",
       "      <th>WGTP</th>\n",
       "      <th>NP</th>\n",
       "      <th>...</th>\n",
       "      <th>WGTP75</th>\n",
       "      <th>WGTP76</th>\n",
       "      <th>WGTP77</th>\n",
       "      <th>WGTP78</th>\n",
       "      <th>WGTP79</th>\n",
       "      <th>WGTP80</th>\n",
       "      <th>kids_u6</th>\n",
       "      <th>kids_6_17</th>\n",
       "      <th>kids_u6_and_617</th>\n",
       "      <th>no_kids</th>\n",
       "    </tr>\n",
       "  </thead>\n",
       "  <tbody>\n",
       "    <tr>\n",
       "      <th>0</th>\n",
       "      <td>H</td>\n",
       "      <td>2017000000006</td>\n",
       "      <td>6</td>\n",
       "      <td>2400</td>\n",
       "      <td>3</td>\n",
       "      <td>21</td>\n",
       "      <td>1000000</td>\n",
       "      <td>1011189</td>\n",
       "      <td>79</td>\n",
       "      <td>1</td>\n",
       "      <td>...</td>\n",
       "      <td>111</td>\n",
       "      <td>68</td>\n",
       "      <td>34</td>\n",
       "      <td>73</td>\n",
       "      <td>28</td>\n",
       "      <td>105</td>\n",
       "      <td>0</td>\n",
       "      <td>0</td>\n",
       "      <td>0</td>\n",
       "      <td>1</td>\n",
       "    </tr>\n",
       "    <tr>\n",
       "      <th>1</th>\n",
       "      <td>H</td>\n",
       "      <td>2017000000109</td>\n",
       "      <td>6</td>\n",
       "      <td>1703</td>\n",
       "      <td>3</td>\n",
       "      <td>21</td>\n",
       "      <td>1000000</td>\n",
       "      <td>1011189</td>\n",
       "      <td>12</td>\n",
       "      <td>1</td>\n",
       "      <td>...</td>\n",
       "      <td>13</td>\n",
       "      <td>15</td>\n",
       "      <td>13</td>\n",
       "      <td>13</td>\n",
       "      <td>26</td>\n",
       "      <td>5</td>\n",
       "      <td>0</td>\n",
       "      <td>0</td>\n",
       "      <td>0</td>\n",
       "      <td>1</td>\n",
       "    </tr>\n",
       "    <tr>\n",
       "      <th>2</th>\n",
       "      <td>H</td>\n",
       "      <td>2017000000131</td>\n",
       "      <td>6</td>\n",
       "      <td>1500</td>\n",
       "      <td>3</td>\n",
       "      <td>21</td>\n",
       "      <td>1000000</td>\n",
       "      <td>1011189</td>\n",
       "      <td>273</td>\n",
       "      <td>2</td>\n",
       "      <td>...</td>\n",
       "      <td>287</td>\n",
       "      <td>502</td>\n",
       "      <td>271</td>\n",
       "      <td>90</td>\n",
       "      <td>341</td>\n",
       "      <td>103</td>\n",
       "      <td>0</td>\n",
       "      <td>0</td>\n",
       "      <td>0</td>\n",
       "      <td>1</td>\n",
       "    </tr>\n",
       "    <tr>\n",
       "      <th>3</th>\n",
       "      <td>H</td>\n",
       "      <td>2017000000185</td>\n",
       "      <td>6</td>\n",
       "      <td>2400</td>\n",
       "      <td>3</td>\n",
       "      <td>21</td>\n",
       "      <td>1000000</td>\n",
       "      <td>1011189</td>\n",
       "      <td>65</td>\n",
       "      <td>1</td>\n",
       "      <td>...</td>\n",
       "      <td>126</td>\n",
       "      <td>61</td>\n",
       "      <td>68</td>\n",
       "      <td>64</td>\n",
       "      <td>54</td>\n",
       "      <td>18</td>\n",
       "      <td>0</td>\n",
       "      <td>0</td>\n",
       "      <td>0</td>\n",
       "      <td>1</td>\n",
       "    </tr>\n",
       "    <tr>\n",
       "      <th>4</th>\n",
       "      <td>H</td>\n",
       "      <td>2017000000265</td>\n",
       "      <td>6</td>\n",
       "      <td>300</td>\n",
       "      <td>3</td>\n",
       "      <td>21</td>\n",
       "      <td>1000000</td>\n",
       "      <td>1011189</td>\n",
       "      <td>130</td>\n",
       "      <td>1</td>\n",
       "      <td>...</td>\n",
       "      <td>136</td>\n",
       "      <td>215</td>\n",
       "      <td>181</td>\n",
       "      <td>194</td>\n",
       "      <td>143</td>\n",
       "      <td>127</td>\n",
       "      <td>0</td>\n",
       "      <td>0</td>\n",
       "      <td>0</td>\n",
       "      <td>1</td>\n",
       "    </tr>\n",
       "  </tbody>\n",
       "</table>\n",
       "<p>5 rows × 234 columns</p>\n",
       "</div>"
      ],
      "text/plain": [
       "  RT       SERIALNO  DIVISION  PUMA  REGION  ST   ADJHSG   ADJINC  WGTP  NP  \\\n",
       "0  H  2017000000006         6  2400       3  21  1000000  1011189    79   1   \n",
       "1  H  2017000000109         6  1703       3  21  1000000  1011189    12   1   \n",
       "2  H  2017000000131         6  1500       3  21  1000000  1011189   273   2   \n",
       "3  H  2017000000185         6  2400       3  21  1000000  1011189    65   1   \n",
       "4  H  2017000000265         6   300       3  21  1000000  1011189   130   1   \n",
       "\n",
       "   ...  WGTP75  WGTP76  WGTP77  WGTP78  WGTP79  WGTP80  kids_u6  kids_6_17  \\\n",
       "0  ...     111      68      34      73      28     105        0          0   \n",
       "1  ...      13      15      13      13      26       5        0          0   \n",
       "2  ...     287     502     271      90     341     103        0          0   \n",
       "3  ...     126      61      68      64      54      18        0          0   \n",
       "4  ...     136     215     181     194     143     127        0          0   \n",
       "\n",
       "   kids_u6_and_617  no_kids  \n",
       "0                0        1  \n",
       "1                0        1  \n",
       "2                0        1  \n",
       "3                0        1  \n",
       "4                0        1  \n",
       "\n",
       "[5 rows x 234 columns]"
      ]
     },
     "execution_count": 8,
     "metadata": {},
     "output_type": "execute_result"
    }
   ],
   "source": [
    "'''\n",
    "HUPAC 1\n",
    "HH presence and age of children\n",
    "b .N/A (GQ/vacant)\n",
    "1 .With children under 6 years only\n",
    "2 .With children 6 to 17 years only\n",
    "3 .With children under 6 years and 6 to 17 years\n",
    "4 .No children\n",
    "'''\n",
    "\n",
    "dummies = pd.get_dummies(df['HUPAC'])\n",
    "dummies.columns = ['kids_u6', 'kids_6_17', 'kids_u6_and_617', 'no_kids']\n",
    "df = df.join(dummies)\n",
    "df.head()"
   ]
  },
  {
   "cell_type": "code",
   "execution_count": 9,
   "metadata": {
    "ExecuteTime": {
     "end_time": "2020-04-02T13:37:46.722026Z",
     "start_time": "2020-04-02T13:37:45.957065Z"
    }
   },
   "outputs": [
    {
     "name": "stdout",
     "output_type": "stream",
     "text": [
      "Optimization terminated successfully.\n",
      "         Current function value: 1.100462\n",
      "         Iterations 7\n",
      "                          MNLogit Regression Results                          \n",
      "==============================================================================\n",
      "Dep. Variable:                    VEH   No. Observations:                18104\n",
      "Model:                        MNLogit   Df Residuals:                    18089\n",
      "Method:                           MLE   Df Model:                           12\n",
      "Date:                Thu, 02 Apr 2020   Pseudo R-squ.:                  0.1230\n",
      "Time:                        09:37:46   Log-Likelihood:                -19923.\n",
      "converged:                       True   LL-Null:                       -22717.\n",
      "Covariance Type:            nonrobust   LLR p-value:                     0.000\n",
      "===================================================================================\n",
      "          VEH=1       coef    std err          z      P>|z|      [0.025      0.975]\n",
      "-----------------------------------------------------------------------------------\n",
      "Intercept           1.5788      0.086     18.351      0.000       1.410       1.747\n",
      "NP                 -0.0793      0.057     -1.402      0.161      -0.190       0.032\n",
      "kids_u6             0.5000      0.190      2.636      0.008       0.128       0.872\n",
      "kids_6_17           0.3899      0.140      2.790      0.005       0.116       0.664\n",
      "kids_u6_and_617     0.2130      0.230      0.926      0.355      -0.238       0.664\n",
      "-----------------------------------------------------------------------------------\n",
      "          VEH=2       coef    std err          z      P>|z|      [0.025      0.975]\n",
      "-----------------------------------------------------------------------------------\n",
      "Intercept          -0.6954      0.089     -7.853      0.000      -0.869      -0.522\n",
      "NP                  1.3495      0.055     24.331      0.000       1.241       1.458\n",
      "kids_u6            -0.9635      0.185     -5.204      0.000      -1.326      -0.601\n",
      "kids_6_17          -1.2636      0.138     -9.141      0.000      -1.535      -0.993\n",
      "kids_u6_and_617    -2.8550      0.224    -12.751      0.000      -3.294      -2.416\n",
      "-----------------------------------------------------------------------------------\n",
      "          VEH=3       coef    std err          z      P>|z|      [0.025      0.975]\n",
      "-----------------------------------------------------------------------------------\n",
      "Intercept          -2.4812      0.097    -25.489      0.000      -2.672      -2.290\n",
      "NP                  1.9329      0.058     33.425      0.000       1.820       2.046\n",
      "kids_u6            -2.3025      0.197    -11.663      0.000      -2.689      -1.916\n",
      "kids_6_17          -1.8928      0.144    -13.153      0.000      -2.175      -1.611\n",
      "kids_u6_and_617    -4.7255      0.238    -19.860      0.000      -5.192      -4.259\n",
      "===================================================================================\n"
     ]
    }
   ],
   "source": [
    "# That's fine, but we may try some more things.  Perhaps age matters. \n",
    "# More people -> more cars? \n",
    "\n",
    "mod = smf.mnlogit(formula='VEH ~ NP + kids_u6 + kids_6_17 + kids_u6_and_617 + 1', data=df)\n",
    "res = mod.fit()\n",
    "print(res.summary())"
   ]
  },
  {
   "cell_type": "code",
   "execution_count": 10,
   "metadata": {
    "ExecuteTime": {
     "end_time": "2020-04-02T13:37:46.727012Z",
     "start_time": "2020-04-02T13:37:46.723023Z"
    }
   },
   "outputs": [],
   "source": [
    "# what else should we add? "
   ]
  },
  {
   "cell_type": "code",
   "execution_count": null,
   "metadata": {},
   "outputs": [],
   "source": []
  },
  {
   "cell_type": "markdown",
   "metadata": {},
   "source": [
    "### Homework\n",
    "\n",
    "Calculate the probability that a 1-person household in Lexington, earning $16,000 per year owns 0, 1, 2 or 3+ vehicles.  "
   ]
  },
  {
   "cell_type": "code",
   "execution_count": 31,
   "metadata": {
    "ExecuteTime": {
     "end_time": "2020-04-02T14:27:52.436240Z",
     "start_time": "2020-04-02T14:27:52.058227Z"
    }
   },
   "outputs": [
    {
     "data": {
      "text/html": [
       "<div>\n",
       "<style scoped>\n",
       "    .dataframe tbody tr th:only-of-type {\n",
       "        vertical-align: middle;\n",
       "    }\n",
       "\n",
       "    .dataframe tbody tr th {\n",
       "        vertical-align: top;\n",
       "    }\n",
       "\n",
       "    .dataframe thead th {\n",
       "        text-align: right;\n",
       "    }\n",
       "</style>\n",
       "<table border=\"1\" class=\"dataframe\">\n",
       "  <thead>\n",
       "    <tr style=\"text-align: right;\">\n",
       "      <th></th>\n",
       "      <th>RT</th>\n",
       "      <th>SERIALNO</th>\n",
       "      <th>DIVISION</th>\n",
       "      <th>PUMA</th>\n",
       "      <th>REGION</th>\n",
       "      <th>ST</th>\n",
       "      <th>ADJHSG</th>\n",
       "      <th>ADJINC</th>\n",
       "      <th>WGTP</th>\n",
       "      <th>NP</th>\n",
       "      <th>...</th>\n",
       "      <th>WGTP71</th>\n",
       "      <th>WGTP72</th>\n",
       "      <th>WGTP73</th>\n",
       "      <th>WGTP74</th>\n",
       "      <th>WGTP75</th>\n",
       "      <th>WGTP76</th>\n",
       "      <th>WGTP77</th>\n",
       "      <th>WGTP78</th>\n",
       "      <th>WGTP79</th>\n",
       "      <th>WGTP80</th>\n",
       "    </tr>\n",
       "  </thead>\n",
       "  <tbody>\n",
       "    <tr>\n",
       "      <th>9</th>\n",
       "      <td>H</td>\n",
       "      <td>2017000000438</td>\n",
       "      <td>6</td>\n",
       "      <td>1902</td>\n",
       "      <td>3</td>\n",
       "      <td>21</td>\n",
       "      <td>1000000</td>\n",
       "      <td>1011189</td>\n",
       "      <td>135</td>\n",
       "      <td>2</td>\n",
       "      <td>...</td>\n",
       "      <td>42</td>\n",
       "      <td>250</td>\n",
       "      <td>137</td>\n",
       "      <td>212</td>\n",
       "      <td>246</td>\n",
       "      <td>147</td>\n",
       "      <td>147</td>\n",
       "      <td>141</td>\n",
       "      <td>139</td>\n",
       "      <td>40</td>\n",
       "    </tr>\n",
       "    <tr>\n",
       "      <th>41</th>\n",
       "      <td>H</td>\n",
       "      <td>2017000002297</td>\n",
       "      <td>6</td>\n",
       "      <td>1902</td>\n",
       "      <td>3</td>\n",
       "      <td>21</td>\n",
       "      <td>1000000</td>\n",
       "      <td>1011189</td>\n",
       "      <td>116</td>\n",
       "      <td>1</td>\n",
       "      <td>...</td>\n",
       "      <td>131</td>\n",
       "      <td>184</td>\n",
       "      <td>34</td>\n",
       "      <td>116</td>\n",
       "      <td>137</td>\n",
       "      <td>119</td>\n",
       "      <td>201</td>\n",
       "      <td>36</td>\n",
       "      <td>109</td>\n",
       "      <td>182</td>\n",
       "    </tr>\n",
       "    <tr>\n",
       "      <th>53</th>\n",
       "      <td>H</td>\n",
       "      <td>2017000003296</td>\n",
       "      <td>6</td>\n",
       "      <td>1901</td>\n",
       "      <td>3</td>\n",
       "      <td>21</td>\n",
       "      <td>1000000</td>\n",
       "      <td>1011189</td>\n",
       "      <td>84</td>\n",
       "      <td>2</td>\n",
       "      <td>...</td>\n",
       "      <td>94</td>\n",
       "      <td>29</td>\n",
       "      <td>78</td>\n",
       "      <td>138</td>\n",
       "      <td>83</td>\n",
       "      <td>160</td>\n",
       "      <td>145</td>\n",
       "      <td>23</td>\n",
       "      <td>86</td>\n",
       "      <td>88</td>\n",
       "    </tr>\n",
       "    <tr>\n",
       "      <th>58</th>\n",
       "      <td>H</td>\n",
       "      <td>2017000003499</td>\n",
       "      <td>6</td>\n",
       "      <td>1901</td>\n",
       "      <td>3</td>\n",
       "      <td>21</td>\n",
       "      <td>1000000</td>\n",
       "      <td>1011189</td>\n",
       "      <td>138</td>\n",
       "      <td>4</td>\n",
       "      <td>...</td>\n",
       "      <td>217</td>\n",
       "      <td>45</td>\n",
       "      <td>126</td>\n",
       "      <td>45</td>\n",
       "      <td>43</td>\n",
       "      <td>128</td>\n",
       "      <td>43</td>\n",
       "      <td>216</td>\n",
       "      <td>121</td>\n",
       "      <td>141</td>\n",
       "    </tr>\n",
       "    <tr>\n",
       "      <th>90</th>\n",
       "      <td>H</td>\n",
       "      <td>2017000005959</td>\n",
       "      <td>6</td>\n",
       "      <td>1902</td>\n",
       "      <td>3</td>\n",
       "      <td>21</td>\n",
       "      <td>1000000</td>\n",
       "      <td>1011189</td>\n",
       "      <td>118</td>\n",
       "      <td>4</td>\n",
       "      <td>...</td>\n",
       "      <td>41</td>\n",
       "      <td>129</td>\n",
       "      <td>105</td>\n",
       "      <td>32</td>\n",
       "      <td>104</td>\n",
       "      <td>116</td>\n",
       "      <td>39</td>\n",
       "      <td>139</td>\n",
       "      <td>123</td>\n",
       "      <td>119</td>\n",
       "    </tr>\n",
       "  </tbody>\n",
       "</table>\n",
       "<p>5 rows × 230 columns</p>\n",
       "</div>"
      ],
      "text/plain": [
       "   RT       SERIALNO  DIVISION  PUMA  REGION  ST   ADJHSG   ADJINC  WGTP  NP  \\\n",
       "9   H  2017000000438         6  1902       3  21  1000000  1011189   135   2   \n",
       "41  H  2017000002297         6  1902       3  21  1000000  1011189   116   1   \n",
       "53  H  2017000003296         6  1901       3  21  1000000  1011189    84   2   \n",
       "58  H  2017000003499         6  1901       3  21  1000000  1011189   138   4   \n",
       "90  H  2017000005959         6  1902       3  21  1000000  1011189   118   4   \n",
       "\n",
       "    ...  WGTP71  WGTP72  WGTP73  WGTP74  WGTP75  WGTP76  WGTP77  WGTP78  \\\n",
       "9   ...      42     250     137     212     246     147     147     141   \n",
       "41  ...     131     184      34     116     137     119     201      36   \n",
       "53  ...      94      29      78     138      83     160     145      23   \n",
       "58  ...     217      45     126      45      43     128      43     216   \n",
       "90  ...      41     129     105      32     104     116      39     139   \n",
       "\n",
       "    WGTP79  WGTP80  \n",
       "9      139      40  \n",
       "41     109     182  \n",
       "53      86      88  \n",
       "58     121     141  \n",
       "90     123     119  \n",
       "\n",
       "[5 rows x 230 columns]"
      ]
     },
     "execution_count": 31,
     "metadata": {},
     "output_type": "execute_result"
    }
   ],
   "source": [
    "df = pd.read_csv('data/psam_h21.csv')\n",
    "df = df[(df['PUMA'] == 1901) | (df['PUMA'] == 1902)]\n",
    "df.head()"
   ]
  },
  {
   "cell_type": "code",
   "execution_count": 32,
   "metadata": {
    "ExecuteTime": {
     "end_time": "2020-04-02T14:27:53.990290Z",
     "start_time": "2020-04-02T14:27:53.984283Z"
    }
   },
   "outputs": [
    {
     "data": {
      "text/plain": [
       "array([ 2.,  1.,  3.,  4.,  0., nan,  5.,  6.])"
      ]
     },
     "execution_count": 32,
     "metadata": {},
     "output_type": "execute_result"
    }
   ],
   "source": [
    "df['VEH'].unique()"
   ]
  },
  {
   "cell_type": "code",
   "execution_count": 33,
   "metadata": {
    "ExecuteTime": {
     "end_time": "2020-04-02T14:27:54.680657Z",
     "start_time": "2020-04-02T14:27:54.671648Z"
    }
   },
   "outputs": [],
   "source": [
    "df = df[df['TYPE']==1]\n",
    "df = df[df['NP']>0]"
   ]
  },
  {
   "cell_type": "code",
   "execution_count": 34,
   "metadata": {
    "ExecuteTime": {
     "end_time": "2020-04-02T14:27:55.608019Z",
     "start_time": "2020-04-02T14:27:55.599012Z"
    }
   },
   "outputs": [
    {
     "data": {
      "text/plain": [
       "1253"
      ]
     },
     "execution_count": 34,
     "metadata": {},
     "output_type": "execute_result"
    }
   ],
   "source": [
    "df['VEH'] = df['VEH'].apply(lambda x : min(x, 3))\n",
    "df['VEH'] = df['VEH'].astype(int)\n",
    "len(df)"
   ]
  },
  {
   "cell_type": "code",
   "execution_count": 37,
   "metadata": {
    "ExecuteTime": {
     "end_time": "2020-04-02T14:38:39.777171Z",
     "start_time": "2020-04-02T14:38:39.771188Z"
    }
   },
   "outputs": [
    {
     "data": {
      "text/plain": [
       "array([1, 2, 3, 4], dtype=int64)"
      ]
     },
     "execution_count": 37,
     "metadata": {},
     "output_type": "execute_result"
    }
   ],
   "source": [
    "df['NP'].unique()"
   ]
  },
  {
   "cell_type": "code",
   "execution_count": 35,
   "metadata": {
    "ExecuteTime": {
     "end_time": "2020-04-02T14:27:56.533647Z",
     "start_time": "2020-04-02T14:27:56.528633Z"
    }
   },
   "outputs": [],
   "source": [
    "#controlling for household income in the $16,000 range.\n",
    "df = df[(df['HINCP'] >= 16000) & (df['HINCP'] < 17000)]"
   ]
  },
  {
   "cell_type": "code",
   "execution_count": 36,
   "metadata": {
    "ExecuteTime": {
     "end_time": "2020-04-02T14:27:58.231657Z",
     "start_time": "2020-04-02T14:27:58.167780Z"
    }
   },
   "outputs": [
    {
     "name": "stdout",
     "output_type": "stream",
     "text": [
      "Optimization terminated successfully.\n",
      "         Current function value: 1.207647\n",
      "         Iterations 6\n",
      "                          MNLogit Regression Results                          \n",
      "==============================================================================\n",
      "Dep. Variable:                    VEH   No. Observations:                   14\n",
      "Model:                        MNLogit   Df Residuals:                        8\n",
      "Method:                           MLE   Df Model:                            3\n",
      "Date:                Thu, 02 Apr 2020   Pseudo R-squ.:                 0.02582\n",
      "Time:                        10:27:58   Log-Likelihood:                -16.907\n",
      "converged:                       True   LL-Null:                       -17.355\n",
      "Covariance Type:            nonrobust   LLR p-value:                    0.8263\n",
      "==============================================================================\n",
      "     VEH=1       coef    std err          z      P>|z|      [0.025      0.975]\n",
      "------------------------------------------------------------------------------\n",
      "Intercept     -0.6709      1.629     -0.412      0.680      -3.864       2.522\n",
      "NP             0.5530      0.789      0.701      0.483      -0.993       2.099\n",
      "------------------------------------------------------------------------------\n",
      "     VEH=2       coef    std err          z      P>|z|      [0.025      0.975]\n",
      "------------------------------------------------------------------------------\n",
      "Intercept     -0.0473      1.862     -0.025      0.980      -3.697       3.602\n",
      "NP            -0.1408      0.998     -0.141      0.888      -2.098       1.816\n",
      "------------------------------------------------------------------------------\n",
      "     VEH=3       coef    std err          z      P>|z|      [0.025      0.975]\n",
      "------------------------------------------------------------------------------\n",
      "Intercept     -2.0479      2.753     -0.744      0.457      -7.445       3.349\n",
      "NP             0.3538      1.296      0.273      0.785      -2.185       2.893\n",
      "==============================================================================\n"
     ]
    }
   ],
   "source": [
    "mod = smf.mnlogit(formula='VEH ~ NP + 1', data=df)\n",
    "res = mod.fit()\n",
    "print(res.summary())"
   ]
  },
  {
   "cell_type": "code",
   "execution_count": null,
   "metadata": {},
   "outputs": [],
   "source": []
  }
 ],
 "metadata": {
  "anaconda-cloud": {},
  "kernelspec": {
   "display_name": "Python 3",
   "language": "python",
   "name": "python3"
  },
  "language_info": {
   "codemirror_mode": {
    "name": "ipython",
    "version": 3
   },
   "file_extension": ".py",
   "mimetype": "text/x-python",
   "name": "python",
   "nbconvert_exporter": "python",
   "pygments_lexer": "ipython3",
   "version": "3.7.3"
  },
  "toc": {
   "base_numbering": 1,
   "nav_menu": {},
   "number_sections": true,
   "sideBar": true,
   "skip_h1_title": false,
   "title_cell": "Table of Contents",
   "title_sidebar": "Contents",
   "toc_cell": false,
   "toc_position": {},
   "toc_section_display": true,
   "toc_window_display": false
  },
  "varInspector": {
   "cols": {
    "lenName": 16,
    "lenType": 16,
    "lenVar": 40
   },
   "kernels_config": {
    "python": {
     "delete_cmd_postfix": "",
     "delete_cmd_prefix": "del ",
     "library": "var_list.py",
     "varRefreshCmd": "print(var_dic_list())"
    },
    "r": {
     "delete_cmd_postfix": ") ",
     "delete_cmd_prefix": "rm(",
     "library": "var_list.r",
     "varRefreshCmd": "cat(var_dic_list()) "
    }
   },
   "types_to_exclude": [
    "module",
    "function",
    "builtin_function_or_method",
    "instance",
    "_Feature"
   ],
   "window_display": false
  }
 },
 "nbformat": 4,
 "nbformat_minor": 1
}
